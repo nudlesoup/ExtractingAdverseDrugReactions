{
 "cells": [
  {
   "cell_type": "code",
   "execution_count": 1,
   "metadata": {},
   "outputs": [],
   "source": [
    "import json\n",
    "import pandas as pd\n",
    "from sklearn.naive_bayes import GaussianNB, MultinomialNB\n",
    "from sklearn.metrics import *\n",
    "import numpy as np"
   ]
  },
  {
   "cell_type": "markdown",
   "metadata": {},
   "source": [
    "## Setup"
   ]
  },
  {
   "cell_type": "code",
   "execution_count": 2,
   "metadata": {},
   "outputs": [],
   "source": [
    "train_tw_all = []\n",
    "train_tw_id = []\n",
    "train_tw_text = []\n",
    "train_tw_label = []\n",
    "with open('data/train/train.txt') as f:\n",
    "    for line in f:\n",
    "        split_text = line.strip().split('\\t')\n",
    "        train_tw_all.append({\n",
    "            'id': split_text[0],\n",
    "            'text': split_text[2],\n",
    "            'label': split_text[1]\n",
    "        })\n",
    "        train_tw_id.append(split_text[0])\n",
    "        train_tw_label.append(split_text[1])\n",
    "        train_tw_text.append(split_text[2])\n",
    "        \n",
    "dev_tw_all = []\n",
    "dev_tw_id = []\n",
    "dev_tw_text = []\n",
    "dev_tw_label = []\n",
    "with open('data/dev/dev.txt') as f:\n",
    "    for line in f:\n",
    "        split_text = line.strip().split('\\t')\n",
    "        dev_tw_all.append({\n",
    "            'id': split_text[0],\n",
    "            'text': split_text[2],\n",
    "            'label': split_text[1]\n",
    "        })\n",
    "        dev_tw_id.append(split_text[0])\n",
    "        dev_tw_label.append(split_text[1])\n",
    "        dev_tw_text.append(split_text[2])"
   ]
  },
  {
   "cell_type": "code",
   "execution_count": 3,
   "metadata": {},
   "outputs": [],
   "source": [
    "train_tw_all_pd = pd.DataFrame(train_tw_all)"
   ]
  },
  {
   "cell_type": "code",
   "execution_count": 4,
   "metadata": {},
   "outputs": [],
   "source": [
    "# Store csv file into dataframe. This csv files are converted results from arff file\n",
    "train_features = pd.read_csv('data/train/train.csv')\n",
    "dev_features = pd.read_csv('data/dev/dev.csv')"
   ]
  },
  {
   "cell_type": "code",
   "execution_count": 5,
   "metadata": {},
   "outputs": [],
   "source": [
    "train_adr_data_count = train_features.loc[train_features['class'] == 'Y']['id'].count()\n",
    "train_nonadr_data_count = train_features.loc[train_features['class'] == 'N']['id'].count()\n",
    "\n",
    "dev_adr_count = dev_features.loc[dev_features['class'] == 'Y']['id'].count()\n",
    "dev_nonadr_count = dev_features.loc[dev_features['class'] == 'N']['id'].count()"
   ]
  },
  {
   "cell_type": "code",
   "execution_count": 6,
   "metadata": {},
   "outputs": [],
   "source": [
    "import matplotlib.pyplot as plt"
   ]
  },
  {
   "cell_type": "code",
   "execution_count": 7,
   "metadata": {},
   "outputs": [
    {
     "data": {
      "image/png": "[encoded data removed]",
      "text/plain": [
       "<matplotlib.figure.Figure at 0x108e0b190>"
      ]
     },
     "metadata": {},
     "output_type": "display_data"
    },
    {
     "data": {
      "image/png": "[encoded data removed]",
      "text/plain": [
       "<matplotlib.figure.Figure at 0x107850610>"
      ]
     },
     "metadata": {},
     "output_type": "display_data"
    }
   ],
   "source": [
    "# Data to plot\n",
    "labels = 'ADR', 'non-ADR'\n",
    "colors = ['gold', 'yellowgreen']\n",
    "explode = (0.1, 0)  # explode 1st slice\n",
    " \n",
    "# Plot Train Data\n",
    "plt.pie([train_adr_data_count,train_nonadr_data_count], explode=explode, labels=labels, colors=colors,\n",
    "        autopct='%1.1f%%', shadow=True, startangle=140)\n",
    "\n",
    "plt.axis('equal')\n",
    "plt.show()\n",
    "\n",
    "# Plot Dev Data\n",
    "plt.pie([dev_adr_count,dev_nonadr_count], explode=explode, labels=labels, colors=colors,\n",
    "        autopct='%1.1f%%', shadow=True, startangle=140)\n",
    "\n",
    "plt.axis('equal')\n",
    "plt.show()\n"
   ]
  },
  {
   "cell_type": "code",
   "execution_count": 8,
   "metadata": {},
   "outputs": [],
   "source": [
    "# Training data\n",
    "train_features_label = train_features['class']\n",
    "train_features.drop('class', axis = 1, inplace = True)\n",
    "train_features.drop('id', axis = 1, inplace = True)"
   ]
  },
  {
   "cell_type": "code",
   "execution_count": 9,
   "metadata": {},
   "outputs": [
    {
     "data": {
      "text/plain": [
       "N    2793\n",
       "Y     373\n",
       "Name: class, dtype: int64"
      ]
     },
     "execution_count": 9,
     "metadata": {},
     "output_type": "execute_result"
    }
   ],
   "source": [
    "train_features_label.value_counts()"
   ]
  },
  {
   "cell_type": "code",
   "execution_count": 10,
   "metadata": {},
   "outputs": [
    {
     "data": {
      "text/plain": [
       "N    962\n",
       "Y    114\n",
       "Name: class, dtype: int64"
      ]
     },
     "execution_count": 10,
     "metadata": {},
     "output_type": "execute_result"
    }
   ],
   "source": [
    "dev_features['class'].value_counts()"
   ]
  },
  {
   "cell_type": "markdown",
   "metadata": {},
   "source": [
    "## Gaussian Bayes"
   ]
  },
  {
   "cell_type": "code",
   "execution_count": 11,
   "metadata": {},
   "outputs": [
    {
     "data": {
      "text/plain": [
       "GaussianNB(priors=None)"
      ]
     },
     "execution_count": 11,
     "metadata": {},
     "output_type": "execute_result"
    }
   ],
   "source": [
    "# Initialise with training data\n",
    "clf = GaussianNB()\n",
    "clf.fit(train_features, train_features_label)"
   ]
  },
  {
   "cell_type": "code",
   "execution_count": 12,
   "metadata": {},
   "outputs": [],
   "source": [
    "# Extract data without tweet id and class\n",
    "dev_for_prediction = dev_features[dev_features.columns[1:-1]]\n",
    "# Extract only class from dev data\n",
    "dev_class = dev_features[dev_features.columns[-1]]"
   ]
  },
  {
   "cell_type": "code",
   "execution_count": 13,
   "metadata": {},
   "outputs": [],
   "source": [
    "# Feed dev data into algorithm for evaluation\n",
    "dev_pred_GNB = clf.predict(dev_for_prediction)"
   ]
  },
  {
   "cell_type": "code",
   "execution_count": 14,
   "metadata": {},
   "outputs": [
    {
     "data": {
      "text/plain": [
       "array([[912,  50],\n",
       "       [ 75,  39]])"
      ]
     },
     "execution_count": 14,
     "metadata": {},
     "output_type": "execute_result"
    }
   ],
   "source": [
    "# Confusion matrix for GaussianBayes\n",
    "GaussianCM = confusion_matrix(dev_class, dev_pred_GNB, labels = [\"N\",\"Y\"])\n",
    "GaussianCM"
   ]
  },
  {
   "cell_type": "code",
   "execution_count": 15,
   "metadata": {},
   "outputs": [],
   "source": [
    "TP = GaussianCM[1, 1]\n",
    "TN = GaussianCM[0, 0]\n",
    "FP = GaussianCM[0, 1]\n",
    "FN = GaussianCM[1, 0]"
   ]
  },
  {
   "cell_type": "code",
   "execution_count": 16,
   "metadata": {},
   "outputs": [
    {
     "name": "stdout",
     "output_type": "stream",
     "text": [
      "('Precision:', 0.43820224719101125)\n",
      "('Recall', 0.34210526315789475)\n",
      "('Specificity', 0.94802494802494808)\n"
     ]
    }
   ],
   "source": [
    "precision = TP / float(TP + FP)\n",
    "print('Precision:',precision)\n",
    "\n",
    "sensitivity = TP / float(FN + TP)\n",
    "print('Recall', sensitivity)\n",
    "\n",
    "specificity = TN / float(TN + FP)\n",
    "print('Specificity',specificity)"
   ]
  },
  {
   "cell_type": "code",
   "execution_count": 17,
   "metadata": {},
   "outputs": [
    {
     "data": {
      "text/plain": [
       "N    987\n",
       "Y     89\n",
       "dtype: int64"
      ]
     },
     "execution_count": 17,
     "metadata": {},
     "output_type": "execute_result"
    }
   ],
   "source": [
    "pd.Series(dev_pred_GNB).value_counts()"
   ]
  },
  {
   "cell_type": "code",
   "execution_count": 18,
   "metadata": {},
   "outputs": [
    {
     "name": "stdout",
     "output_type": "stream",
     "text": [
      "             precision    recall  f1-score   support\n",
      "\n",
      "          N       0.92      0.95      0.94       962\n",
      "          Y       0.44      0.34      0.38       114\n",
      "\n",
      "avg / total       0.87      0.88      0.88      1076\n",
      "\n"
     ]
    }
   ],
   "source": [
    "print(classification_report(dev_class,dev_pred_GNB, labels = [\"N\",\"Y\"]))"
   ]
  },
  {
   "cell_type": "code",
   "execution_count": 19,
   "metadata": {},
   "outputs": [
    {
     "data": {
      "text/plain": [
       "0.88382899628252787"
      ]
     },
     "execution_count": 19,
     "metadata": {},
     "output_type": "execute_result"
    }
   ],
   "source": [
    "accuracy_score(dev_class,dev_pred_GNB)"
   ]
  },
  {
   "cell_type": "code",
   "execution_count": 20,
   "metadata": {},
   "outputs": [
    {
     "data": {
      "text/plain": [
       "(array(['N', 'N', 'N', 'N', 'N', 'N', 'Y', 'N', 'Y', 'N', 'N', 'N', 'Y',\n",
       "        'N', 'Y', 'N', 'N', 'Y', 'N', 'N', 'N', 'N', 'N', 'N', 'N'], dtype=object),\n",
       " array(['N', 'N', 'N', 'N', 'N', 'N', 'N', 'N', 'Y', 'Y', 'N', 'N', 'Y',\n",
       "        'N', 'N', 'N', 'N', 'N', 'N', 'N', 'N', 'N', 'N', 'N', 'N'],\n",
       "       dtype='|S1'))"
      ]
     },
     "execution_count": 20,
     "metadata": {},
     "output_type": "execute_result"
    }
   ],
   "source": [
    "dev_class.values[0:25],dev_pred_GNB[0:25]"
   ]
  },
  {
   "cell_type": "code",
   "execution_count": 21,
   "metadata": {},
   "outputs": [],
   "source": [
    "from sklearn_evaluation import plot\n",
    "import matplotlib.pyplot as eval_chart"
   ]
  },
  {
   "cell_type": "code",
   "execution_count": 22,
   "metadata": {},
   "outputs": [
    {
     "data": {
      "image/png": "[encoded data removed]",
      "text/plain": [
       "<matplotlib.figure.Figure at 0x107850ed0>"
      ]
     },
     "metadata": {},
     "output_type": "display_data"
    }
   ],
   "source": [
    "plot.confusion_matrix(dev_class, dev_pred_GNB,target_names=[\"N\",\"Y\"])\n",
    "eval_chart.show()"
   ]
  },
  {
   "cell_type": "markdown",
   "metadata": {},
   "source": [
    "## Multinomial Bayes"
   ]
  },
  {
   "cell_type": "code",
   "execution_count": 23,
   "metadata": {},
   "outputs": [
    {
     "data": {
      "text/plain": [
       "MultinomialNB(alpha=1.0, class_prior=None, fit_prior=True)"
      ]
     },
     "execution_count": 23,
     "metadata": {},
     "output_type": "execute_result"
    }
   ],
   "source": [
    "clfMulti = MultinomialNB()\n",
    "clfMulti.fit(train_features, train_features_label)"
   ]
  },
  {
   "cell_type": "code",
   "execution_count": 24,
   "metadata": {},
   "outputs": [],
   "source": [
    "dev_pred_MNB = clfMulti.predict(dev_for_prediction)"
   ]
  },
  {
   "cell_type": "code",
   "execution_count": 25,
   "metadata": {},
   "outputs": [
    {
     "data": {
      "text/plain": [
       "array([[936,  26],\n",
       "       [ 83,  31]])"
      ]
     },
     "execution_count": 25,
     "metadata": {},
     "output_type": "execute_result"
    }
   ],
   "source": [
    "MultiNBCM = confusion_matrix(dev_class,dev_pred_MNB, labels = [\"N\",\"Y\"])\n",
    "MultiNBCM"
   ]
  },
  {
   "cell_type": "code",
   "execution_count": 26,
   "metadata": {},
   "outputs": [],
   "source": [
    "TP = MultiNBCM[1, 1]\n",
    "TN = MultiNBCM[0, 0]\n",
    "FP = MultiNBCM[0, 1]\n",
    "FN = MultiNBCM[1, 0]"
   ]
  },
  {
   "cell_type": "code",
   "execution_count": 27,
   "metadata": {},
   "outputs": [
    {
     "name": "stdout",
     "output_type": "stream",
     "text": [
      "('Precision:', 0.54385964912280704)\n",
      "('Recall', 0.27192982456140352)\n",
      "('Specificity', 0.97297297297297303)\n"
     ]
    }
   ],
   "source": [
    "precision = TP / float(TP + FP)\n",
    "print('Precision:',precision)\n",
    "\n",
    "sensitivity = TP / float(FN + TP)\n",
    "print('Recall', sensitivity)\n",
    "\n",
    "specificity = TN / float(TN + FP)\n",
    "print('Specificity',specificity)"
   ]
  },
  {
   "cell_type": "code",
   "execution_count": 28,
   "metadata": {},
   "outputs": [
    {
     "data": {
      "image/png": "[encoded data removed]",
      "text/plain": [
       "<matplotlib.figure.Figure at 0x10945e7d0>"
      ]
     },
     "metadata": {},
     "output_type": "display_data"
    }
   ],
   "source": [
    "plot.confusion_matrix(dev_class, dev_pred_MNB,target_names=[\"N\",\"Y\"])\n",
    "eval_chart.show()"
   ]
  },
  {
   "cell_type": "code",
   "execution_count": 29,
   "metadata": {},
   "outputs": [
    {
     "data": {
      "text/plain": [
       "N    1019\n",
       "Y      57\n",
       "dtype: int64"
      ]
     },
     "execution_count": 29,
     "metadata": {},
     "output_type": "execute_result"
    }
   ],
   "source": [
    "pd.Series(dev_pred_MNB).value_counts()"
   ]
  },
  {
   "cell_type": "code",
   "execution_count": 30,
   "metadata": {},
   "outputs": [
    {
     "name": "stdout",
     "output_type": "stream",
     "text": [
      "             precision    recall  f1-score   support\n",
      "\n",
      "          N       0.92      0.97      0.94       962\n",
      "          Y       0.54      0.27      0.36       114\n",
      "\n",
      "avg / total       0.88      0.90      0.88      1076\n",
      "\n"
     ]
    }
   ],
   "source": [
    "print(classification_report(dev_class,dev_pred_MNB, labels = [\"N\",\"Y\"]))"
   ]
  },
  {
   "cell_type": "code",
   "execution_count": 31,
   "metadata": {},
   "outputs": [
    {
     "data": {
      "text/plain": [
       "0.89869888475836435"
      ]
     },
     "execution_count": 31,
     "metadata": {},
     "output_type": "execute_result"
    }
   ],
   "source": [
    "accuracy_score(dev_class,dev_pred_MNB)"
   ]
  },
  {
   "cell_type": "markdown",
   "metadata": {},
   "source": [
    "## Decision Tree"
   ]
  },
  {
   "cell_type": "code",
   "execution_count": 32,
   "metadata": {},
   "outputs": [],
   "source": [
    "from sklearn import tree"
   ]
  },
  {
   "cell_type": "code",
   "execution_count": 33,
   "metadata": {},
   "outputs": [
    {
     "data": {
      "text/plain": [
       "DecisionTreeClassifier(class_weight=None, criterion='gini', max_depth=None,\n",
       "            max_features=None, max_leaf_nodes=None,\n",
       "            min_impurity_decrease=0.0, min_impurity_split=None,\n",
       "            min_samples_leaf=1, min_samples_split=2,\n",
       "            min_weight_fraction_leaf=0.0, presort=False, random_state=None,\n",
       "            splitter='best')"
      ]
     },
     "execution_count": 33,
     "metadata": {},
     "output_type": "execute_result"
    }
   ],
   "source": [
    "# Default Tree setup\n",
    "tree_clf = tree.DecisionTreeClassifier()\n",
    "tree_clf.fit(train_features, train_features_label)"
   ]
  },
  {
   "cell_type": "code",
   "execution_count": 34,
   "metadata": {},
   "outputs": [],
   "source": [
    "dev_prediction_descTree = tree_clf.predict(dev_for_prediction)"
   ]
  },
  {
   "cell_type": "code",
   "execution_count": 35,
   "metadata": {},
   "outputs": [
    {
     "data": {
      "text/plain": [
       "array([[ 31,  83],\n",
       "       [ 65, 897]])"
      ]
     },
     "execution_count": 35,
     "metadata": {},
     "output_type": "execute_result"
    }
   ],
   "source": [
    "confusion_matrix(dev_class, dev_prediction_descTree,labels = [\"Y\",\"N\"])"
   ]
  },
  {
   "cell_type": "code",
   "execution_count": 36,
   "metadata": {},
   "outputs": [
    {
     "name": "stdout",
     "output_type": "stream",
     "text": [
      "             precision    recall  f1-score   support\n",
      "\n",
      "          Y       0.32      0.27      0.30       114\n",
      "          N       0.92      0.93      0.92       962\n",
      "\n",
      "avg / total       0.85      0.86      0.86      1076\n",
      "\n"
     ]
    }
   ],
   "source": [
    "print(classification_report(dev_class ,dev_prediction_descTree,labels = [\"Y\",\"N\"]))"
   ]
  },
  {
   "cell_type": "code",
   "execution_count": 37,
   "metadata": {},
   "outputs": [
    {
     "data": {
      "text/plain": [
       "0.86245353159851301"
      ]
     },
     "execution_count": 37,
     "metadata": {},
     "output_type": "execute_result"
    }
   ],
   "source": [
    "accuracy_score(dev_class, dev_prediction_descTree)"
   ]
  },
  {
   "cell_type": "code",
   "execution_count": 38,
   "metadata": {},
   "outputs": [
    {
     "data": {
      "text/plain": [
       "DecisionTreeClassifier(class_weight=None, criterion='gini', max_depth=23,\n",
       "            max_features=None, max_leaf_nodes=None,\n",
       "            min_impurity_decrease=0.0, min_impurity_split=None,\n",
       "            min_samples_leaf=1, min_samples_split=2,\n",
       "            min_weight_fraction_leaf=0.0, presort=False, random_state=None,\n",
       "            splitter='best')"
      ]
     },
     "execution_count": 38,
     "metadata": {},
     "output_type": "execute_result"
    }
   ],
   "source": [
    "# Set maximum depth\n",
    "tree_clf_md = tree.DecisionTreeClassifier(max_depth = 23)\n",
    "tree_clf_md.fit(train_features, train_features_label)"
   ]
  },
  {
   "cell_type": "code",
   "execution_count": 39,
   "metadata": {},
   "outputs": [],
   "source": [
    "dev_prediction_mdTree = tree_clf_md.predict(dev_for_prediction)"
   ]
  },
  {
   "cell_type": "code",
   "execution_count": 40,
   "metadata": {},
   "outputs": [
    {
     "data": {
      "text/plain": [
       "array([[ 23,  91],\n",
       "       [ 26, 936]])"
      ]
     },
     "execution_count": 40,
     "metadata": {},
     "output_type": "execute_result"
    }
   ],
   "source": [
    "confusion_matrix(dev_class, dev_prediction_mdTree,labels = [\"Y\",\"N\"])"
   ]
  },
  {
   "cell_type": "code",
   "execution_count": 41,
   "metadata": {},
   "outputs": [
    {
     "name": "stdout",
     "output_type": "stream",
     "text": [
      "             precision    recall  f1-score   support\n",
      "\n",
      "          Y       0.47      0.20      0.28       114\n",
      "          N       0.91      0.97      0.94       962\n",
      "\n",
      "avg / total       0.86      0.89      0.87      1076\n",
      "\n"
     ]
    }
   ],
   "source": [
    "print(classification_report(dev_class ,dev_prediction_mdTree,labels = [\"Y\",\"N\"]))"
   ]
  },
  {
   "cell_type": "code",
   "execution_count": 42,
   "metadata": {},
   "outputs": [
    {
     "data": {
      "text/plain": [
       "0.89126394052044611"
      ]
     },
     "execution_count": 42,
     "metadata": {},
     "output_type": "execute_result"
    }
   ],
   "source": [
    "accuracy_score(dev_class, dev_prediction_mdTree)"
   ]
  },
  {
   "cell_type": "code",
   "execution_count": 43,
   "metadata": {},
   "outputs": [],
   "source": [
    "# Export Decision Trees\n",
    "with open(\"tree.dot\", 'w') as f:\n",
    "    f = tree.export_graphviz(tree_clf_md, out_file=f)"
   ]
  },
  {
   "cell_type": "markdown",
   "metadata": {},
   "source": [
    "## Random Forest"
   ]
  },
  {
   "cell_type": "code",
   "execution_count": 44,
   "metadata": {},
   "outputs": [
    {
     "data": {
      "text/plain": [
       "RandomForestClassifier(bootstrap=True, class_weight=None, criterion='gini',\n",
       "            max_depth=23, max_features='auto', max_leaf_nodes=None,\n",
       "            min_impurity_decrease=0.0, min_impurity_split=None,\n",
       "            min_samples_leaf=1, min_samples_split=2,\n",
       "            min_weight_fraction_leaf=0.0, n_estimators=10, n_jobs=1,\n",
       "            oob_score=False, random_state=None, verbose=0,\n",
       "            warm_start=False)"
      ]
     },
     "execution_count": 44,
     "metadata": {},
     "output_type": "execute_result"
    }
   ],
   "source": [
    "from sklearn.ensemble import RandomForestClassifier\n",
    "rf_clf = RandomForestClassifier(max_depth=23)\n",
    "rf_clf.fit(train_features, train_features_label)"
   ]
  },
  {
   "cell_type": "code",
   "execution_count": 45,
   "metadata": {},
   "outputs": [],
   "source": [
    "dev_prediction_rf = rf_clf.predict(dev_for_prediction)"
   ]
  },
  {
   "cell_type": "code",
   "execution_count": 46,
   "metadata": {},
   "outputs": [
    {
     "data": {
      "text/plain": [
       "array([[ 10, 104],\n",
       "       [  9, 953]])"
      ]
     },
     "execution_count": 46,
     "metadata": {},
     "output_type": "execute_result"
    }
   ],
   "source": [
    "confusion_matrix(dev_class, dev_prediction_rf, labels = [\"Y\",\"N\"])"
   ]
  },
  {
   "cell_type": "code",
   "execution_count": 47,
   "metadata": {},
   "outputs": [
    {
     "name": "stdout",
     "output_type": "stream",
     "text": [
      "             precision    recall  f1-score   support\n",
      "\n",
      "          Y       0.53      0.09      0.15       114\n",
      "          N       0.90      0.99      0.94       962\n",
      "\n",
      "avg / total       0.86      0.89      0.86      1076\n",
      "\n"
     ]
    }
   ],
   "source": [
    "print(classification_report(dev_class,dev_prediction_rf,labels = [\"Y\",\"N\"]))"
   ]
  },
  {
   "cell_type": "code",
   "execution_count": 48,
   "metadata": {},
   "outputs": [
    {
     "data": {
      "text/plain": [
       "0.89498141263940523"
      ]
     },
     "execution_count": 48,
     "metadata": {},
     "output_type": "execute_result"
    }
   ],
   "source": [
    "accuracy_score(dev_class, dev_prediction_rf)"
   ]
  },
  {
   "cell_type": "code",
   "execution_count": 49,
   "metadata": {},
   "outputs": [
    {
     "name": "stdout",
     "output_type": "stream",
     "text": [
      "is\n",
      "making\n",
      "messed\n",
      "natural\n",
      "lamotrigine\n"
     ]
    }
   ],
   "source": [
    "print(dev_for_prediction.columns[39])\n",
    "print(dev_for_prediction.columns[47])\n",
    "print(dev_for_prediction.columns[49])\n",
    "print(dev_for_prediction.columns[53])\n",
    "print(dev_for_prediction.columns[41])"
   ]
  },
  {
   "cell_type": "code",
   "execution_count": 50,
   "metadata": {},
   "outputs": [
    {
     "data": {
      "text/plain": [
       "Index([u'allergic', u'am', u'appetite', u'bad', u'bananas', u'bed', u'been',\n",
       "       u'body', u'but', u'can', u'caused', u'causing', u'chemical',\n",
       "       u'commercial', u'contain', u'crippled', u'crying', u'cymbalta',\n",
       "       u'definitely', u'depression', u'diary', u'dont', u'drowsy', u'due',\n",
       "       u'effexor', u'experiencing', u'fda', u'feel', u'fluid', u'found',\n",
       "       u'gain', u'gained', u'glassncision', u'had', u'hating', u'headaches',\n",
       "       u'help', u'hurts', u'i', u'is', u'it', u'lamotrigine', u'lbs', u'legs',\n",
       "       u'lozenge', u'made', u'makes', u'making', u'me', u'messed', u'munchies',\n",
       "       u'muscle', u'my', u'natural', u'neck', u'next', u'nicotine',\n",
       "       u'nightmare', u'off', u'olanzapine', u'on', u'pain', u'pains',\n",
       "       u'person', u'pic', u'prozac', u'quetiapine', u'restless', u'retention',\n",
       "       u'rivaroxaban', u'rt', u'same', u'sense', u'seroquel', u'sick',\n",
       "       u'since', u'skin', u'sleep', u'stone', u'taking', u'tendon', u'this',\n",
       "       u'though', u'tired', u'uberfacts', u'up', u'was', u'weight',\n",
       "       u'withdrawal', u'withdrawals', u'wondering', u'zombie'],\n",
       "      dtype='object')"
      ]
     },
     "execution_count": 50,
     "metadata": {},
     "output_type": "execute_result"
    }
   ],
   "source": [
    "dev_for_prediction.columns"
   ]
  },
  {
   "cell_type": "code",
   "execution_count": 51,
   "metadata": {},
   "outputs": [
    {
     "data": {
      "image/png": "[encoded data removed]",
      "text/plain": [
       "<matplotlib.figure.Figure at 0x10a2b8d90>"
      ]
     },
     "metadata": {},
     "output_type": "display_data"
    }
   ],
   "source": [
    "f = plot.feature_importances(rf_clf, top_n=5)\n",
    "eval_chart.show()"
   ]
  },
  {
   "cell_type": "markdown",
   "metadata": {},
   "source": [
    "## Support Vector Machine"
   ]
  },
  {
   "cell_type": "code",
   "execution_count": 52,
   "metadata": {},
   "outputs": [
    {
     "data": {
      "text/plain": [
       "LinearSVC(C=0.2, class_weight=None, dual=True, fit_intercept=True,\n",
       "     intercept_scaling=1, loss='squared_hinge', max_iter=1000,\n",
       "     multi_class='ovr', penalty='l2', random_state=None, tol=0.0001,\n",
       "     verbose=0)"
      ]
     },
     "execution_count": 52,
     "metadata": {},
     "output_type": "execute_result"
    }
   ],
   "source": [
    "from sklearn import svm\n",
    "svm_clf = svm.LinearSVC(C=0.2)\n",
    "svm_clf.fit(train_features,train_features_label)"
   ]
  },
  {
   "cell_type": "code",
   "execution_count": 53,
   "metadata": {},
   "outputs": [],
   "source": [
    "dev_prediction_svm = svm_clf.predict(dev_for_prediction)"
   ]
  },
  {
   "cell_type": "code",
   "execution_count": 54,
   "metadata": {},
   "outputs": [
    {
     "data": {
      "text/plain": [
       "array([[ 23,  91],\n",
       "       [ 15, 947]])"
      ]
     },
     "execution_count": 54,
     "metadata": {},
     "output_type": "execute_result"
    }
   ],
   "source": [
    "confusion_matrix(dev_class, dev_prediction_svm,labels = [\"Y\",\"N\"])"
   ]
  },
  {
   "cell_type": "code",
   "execution_count": 55,
   "metadata": {},
   "outputs": [
    {
     "name": "stdout",
     "output_type": "stream",
     "text": [
      "             precision    recall  f1-score   support\n",
      "\n",
      "          Y       0.61      0.20      0.30       114\n",
      "          N       0.91      0.98      0.95       962\n",
      "\n",
      "avg / total       0.88      0.90      0.88      1076\n",
      "\n"
     ]
    }
   ],
   "source": [
    "print(classification_report(dev_class,dev_prediction_svm,labels = [\"Y\",\"N\"]))"
   ]
  },
  {
   "cell_type": "code",
   "execution_count": 56,
   "metadata": {},
   "outputs": [
    {
     "data": {
      "text/plain": [
       "0.9014869888475836"
      ]
     },
     "execution_count": 56,
     "metadata": {},
     "output_type": "execute_result"
    }
   ],
   "source": [
    "accuracy_score(dev_class,dev_prediction_svm)"
   ]
  },
  {
   "cell_type": "markdown",
   "metadata": {},
   "source": [
    "## Feature Engineering"
   ]
  },
  {
   "cell_type": "code",
   "execution_count": 57,
   "metadata": {},
   "outputs": [],
   "source": [
    "from sklearn.feature_extraction import DictVectorizer\n",
    "import string\n",
    "import re\n",
    "from collections import Counter "
   ]
  },
  {
   "cell_type": "markdown",
   "metadata": {},
   "source": [
    "## ADR Lexicon Features"
   ]
  },
  {
   "cell_type": "code",
   "execution_count": 58,
   "metadata": {},
   "outputs": [],
   "source": [
    "# Load ADR Lexicon data\n",
    "adrlex_list = []\n",
    "with open('data/ADR_lexicon.tsv') as adr_lex:\n",
    "    n = 0\n",
    "    for line in adr_lex:\n",
    "        if n > 20:\n",
    "            items = line.split('\\t')\n",
    "            if len(items[1])>6:\n",
    "                _name = string.strip(string.lower(items[1]))\n",
    "                _cui = string.strip(items[0])\n",
    "                adrlex_list.append((_cui,_name))\n",
    "        if n <= 20: n += 1"
   ]
  },
  {
   "cell_type": "code",
   "execution_count": 59,
   "metadata": {},
   "outputs": [],
   "source": [
    "vec = DictVectorizer()"
   ]
  },
  {
   "cell_type": "code",
   "execution_count": 60,
   "metadata": {},
   "outputs": [],
   "source": [
    "patterns_dict = {re.compile(ade) : ade for (cui,ade) in adrlex_list}"
   ]
  },
  {
   "cell_type": "code",
   "execution_count": 61,
   "metadata": {},
   "outputs": [],
   "source": [
    "## Map training data to ADR lexical\n",
    "train_adr_count = {}\n",
    "train_adr_presence = {}\n",
    "\n",
    "for data in train_tw_all:\n",
    "    tweet = data['text']\n",
    "    id = int(data['id'])\n",
    "\n",
    "    adr_presence = 0\n",
    "    adr_count = 0\n",
    "    for pattern in patterns_dict.keys():\n",
    "        adrs = re.search(pattern,tweet)\n",
    "        if adrs != None:\n",
    "            adr_presence = 1\n",
    "            adr_count += 1\n",
    "    train_adr_count[id] = adr_count\n",
    "    train_adr_presence[id] = adr_presence"
   ]
  },
  {
   "cell_type": "code",
   "execution_count": 62,
   "metadata": {},
   "outputs": [],
   "source": [
    "## Map dev data to ADR lexical\n",
    "dev_adr_count = {}\n",
    "dev_adr_presence = {}\n",
    "\n",
    "for data in dev_tw_all:\n",
    "    tweet = data['text']\n",
    "    id = int(data['id'])\n",
    "\n",
    "    adr_presence = 0\n",
    "    adr_count = 0\n",
    "    for pattern in patterns_dict.keys():\n",
    "        adrs = re.search(pattern,tweet)\n",
    "        if adrs != None:\n",
    "            adr_presence = 1\n",
    "            adr_count += 1\n",
    "\n",
    "    dev_adr_count[id] = adr_count\n",
    "    dev_adr_presence[id] = adr_presence"
   ]
  },
  {
   "cell_type": "code",
   "execution_count": 63,
   "metadata": {},
   "outputs": [],
   "source": [
    "# Load Test data\n",
    "test_tw_all = []\n",
    "with open('data/test/test.txt') as f:\n",
    "    for line in f:\n",
    "        split_text = line.strip().split('\\t')\n",
    "        test_tw_all.append({\n",
    "            'id': split_text[0],\n",
    "            'text': split_text[2],\n",
    "            'label': split_text[1]\n",
    "        })"
   ]
  },
  {
   "cell_type": "code",
   "execution_count": 64,
   "metadata": {},
   "outputs": [],
   "source": [
    "## Map test data to ADR lexical\n",
    "test_adr_count = {}\n",
    "test_adr_presence = {}\n",
    "\n",
    "for data in test_tw_all:\n",
    "    tweet = data['text']\n",
    "    id = int(data['id'])\n",
    "\n",
    "    adr_presence = 0\n",
    "    adr_count = 0\n",
    "    for pattern in patterns_dict.keys():\n",
    "        adrs = re.search(pattern,tweet)\n",
    "        if adrs != None:\n",
    "            adr_presence = 1\n",
    "            adr_count += 1\n",
    "\n",
    "    test_adr_count[id] = adr_count\n",
    "    test_adr_presence[id] = adr_presence"
   ]
  },
  {
   "cell_type": "code",
   "execution_count": 65,
   "metadata": {},
   "outputs": [
    {
     "data": {
      "text/html": [
       "<div>\n",
       "<style>\n",
       "    .dataframe thead tr:only-child th {\n",
       "        text-align: right;\n",
       "    }\n",
       "\n",
       "    .dataframe thead th {\n",
       "        text-align: left;\n",
       "    }\n",
       "\n",
       "    .dataframe tbody tr th {\n",
       "        vertical-align: top;\n",
       "    }\n",
       "</style>\n",
       "<table border=\"1\" class=\"dataframe\">\n",
       "  <thead>\n",
       "    <tr style=\"text-align: right;\">\n",
       "      <th></th>\n",
       "      <th>id</th>\n",
       "      <th>allergic</th>\n",
       "      <th>am</th>\n",
       "      <th>appetite</th>\n",
       "      <th>bad</th>\n",
       "      <th>bananas</th>\n",
       "      <th>bed</th>\n",
       "      <th>been</th>\n",
       "      <th>body</th>\n",
       "      <th>but</th>\n",
       "      <th>...</th>\n",
       "      <th>up</th>\n",
       "      <th>was</th>\n",
       "      <th>weight</th>\n",
       "      <th>withdrawal</th>\n",
       "      <th>withdrawals</th>\n",
       "      <th>wondering</th>\n",
       "      <th>zombie</th>\n",
       "      <th>class</th>\n",
       "      <th>adr_presence</th>\n",
       "      <th>adr_count</th>\n",
       "    </tr>\n",
       "  </thead>\n",
       "  <tbody>\n",
       "    <tr>\n",
       "      <th>0</th>\n",
       "      <td>326376825590779905</td>\n",
       "      <td>0</td>\n",
       "      <td>0</td>\n",
       "      <td>0</td>\n",
       "      <td>0</td>\n",
       "      <td>0</td>\n",
       "      <td>0</td>\n",
       "      <td>0</td>\n",
       "      <td>0</td>\n",
       "      <td>0</td>\n",
       "      <td>...</td>\n",
       "      <td>0</td>\n",
       "      <td>0</td>\n",
       "      <td>0</td>\n",
       "      <td>0</td>\n",
       "      <td>0</td>\n",
       "      <td>0</td>\n",
       "      <td>0</td>\n",
       "      <td>N</td>\n",
       "      <td>1</td>\n",
       "      <td>2</td>\n",
       "    </tr>\n",
       "    <tr>\n",
       "      <th>1</th>\n",
       "      <td>326398829849092097</td>\n",
       "      <td>0</td>\n",
       "      <td>0</td>\n",
       "      <td>0</td>\n",
       "      <td>0</td>\n",
       "      <td>0</td>\n",
       "      <td>0</td>\n",
       "      <td>0</td>\n",
       "      <td>0</td>\n",
       "      <td>0</td>\n",
       "      <td>...</td>\n",
       "      <td>0</td>\n",
       "      <td>0</td>\n",
       "      <td>1</td>\n",
       "      <td>0</td>\n",
       "      <td>0</td>\n",
       "      <td>0</td>\n",
       "      <td>0</td>\n",
       "      <td>Y</td>\n",
       "      <td>1</td>\n",
       "      <td>1</td>\n",
       "    </tr>\n",
       "    <tr>\n",
       "      <th>2</th>\n",
       "      <td>326406322323066883</td>\n",
       "      <td>0</td>\n",
       "      <td>0</td>\n",
       "      <td>0</td>\n",
       "      <td>0</td>\n",
       "      <td>0</td>\n",
       "      <td>0</td>\n",
       "      <td>0</td>\n",
       "      <td>0</td>\n",
       "      <td>1</td>\n",
       "      <td>...</td>\n",
       "      <td>0</td>\n",
       "      <td>0</td>\n",
       "      <td>0</td>\n",
       "      <td>0</td>\n",
       "      <td>0</td>\n",
       "      <td>0</td>\n",
       "      <td>1</td>\n",
       "      <td>Y</td>\n",
       "      <td>1</td>\n",
       "      <td>1</td>\n",
       "    </tr>\n",
       "    <tr>\n",
       "      <th>3</th>\n",
       "      <td>326407491460141056</td>\n",
       "      <td>0</td>\n",
       "      <td>0</td>\n",
       "      <td>0</td>\n",
       "      <td>0</td>\n",
       "      <td>0</td>\n",
       "      <td>0</td>\n",
       "      <td>0</td>\n",
       "      <td>0</td>\n",
       "      <td>0</td>\n",
       "      <td>...</td>\n",
       "      <td>0</td>\n",
       "      <td>0</td>\n",
       "      <td>0</td>\n",
       "      <td>0</td>\n",
       "      <td>0</td>\n",
       "      <td>0</td>\n",
       "      <td>0</td>\n",
       "      <td>N</td>\n",
       "      <td>1</td>\n",
       "      <td>2</td>\n",
       "    </tr>\n",
       "    <tr>\n",
       "      <th>4</th>\n",
       "      <td>326453069795688449</td>\n",
       "      <td>0</td>\n",
       "      <td>0</td>\n",
       "      <td>0</td>\n",
       "      <td>0</td>\n",
       "      <td>0</td>\n",
       "      <td>0</td>\n",
       "      <td>0</td>\n",
       "      <td>0</td>\n",
       "      <td>0</td>\n",
       "      <td>...</td>\n",
       "      <td>0</td>\n",
       "      <td>0</td>\n",
       "      <td>0</td>\n",
       "      <td>0</td>\n",
       "      <td>0</td>\n",
       "      <td>0</td>\n",
       "      <td>0</td>\n",
       "      <td>N</td>\n",
       "      <td>0</td>\n",
       "      <td>0</td>\n",
       "    </tr>\n",
       "  </tbody>\n",
       "</table>\n",
       "<p>5 rows × 96 columns</p>\n",
       "</div>"
      ],
      "text/plain": [
       "                   id  allergic  am  appetite  bad  bananas  bed  been  body  \\\n",
       "0  326376825590779905         0   0         0    0        0    0     0     0   \n",
       "1  326398829849092097         0   0         0    0        0    0     0     0   \n",
       "2  326406322323066883         0   0         0    0        0    0     0     0   \n",
       "3  326407491460141056         0   0         0    0        0    0     0     0   \n",
       "4  326453069795688449         0   0         0    0        0    0     0     0   \n",
       "\n",
       "   but    ...      up  was  weight  withdrawal  withdrawals  wondering  \\\n",
       "0    0    ...       0    0       0           0            0          0   \n",
       "1    0    ...       0    0       1           0            0          0   \n",
       "2    1    ...       0    0       0           0            0          0   \n",
       "3    0    ...       0    0       0           0            0          0   \n",
       "4    0    ...       0    0       0           0            0          0   \n",
       "\n",
       "   zombie  class  adr_presence  adr_count  \n",
       "0       0      N             1          2  \n",
       "1       0      Y             1          1  \n",
       "2       1      Y             1          1  \n",
       "3       0      N             1          2  \n",
       "4       0      N             0          0  \n",
       "\n",
       "[5 rows x 96 columns]"
      ]
     },
     "execution_count": 65,
     "metadata": {},
     "output_type": "execute_result"
    }
   ],
   "source": [
    "## Add two new features to training set\n",
    "train_features_new = pd.read_csv('data/train/train.csv')\n",
    "train_features_new['adr_presence'] = train_features_new['id'].map(train_adr_presence)\n",
    "train_features_new['adr_count'] = train_features_new['id'].map(train_adr_count)\n",
    "train_features_new.head(n=5)"
   ]
  },
  {
   "cell_type": "code",
   "execution_count": 69,
   "metadata": {},
   "outputs": [
    {
     "data": {
      "text/html": [
       "<div>\n",
       "<style>\n",
       "    .dataframe thead tr:only-child th {\n",
       "        text-align: right;\n",
       "    }\n",
       "\n",
       "    .dataframe thead th {\n",
       "        text-align: left;\n",
       "    }\n",
       "\n",
       "    .dataframe tbody tr th {\n",
       "        vertical-align: top;\n",
       "    }\n",
       "</style>\n",
       "<table border=\"1\" class=\"dataframe\">\n",
       "  <thead>\n",
       "    <tr style=\"text-align: right;\">\n",
       "      <th></th>\n",
       "      <th>id</th>\n",
       "      <th>allergic</th>\n",
       "      <th>am</th>\n",
       "      <th>appetite</th>\n",
       "      <th>bad</th>\n",
       "      <th>bananas</th>\n",
       "      <th>bed</th>\n",
       "      <th>been</th>\n",
       "      <th>body</th>\n",
       "      <th>but</th>\n",
       "      <th>...</th>\n",
       "      <th>up</th>\n",
       "      <th>was</th>\n",
       "      <th>weight</th>\n",
       "      <th>withdrawal</th>\n",
       "      <th>withdrawals</th>\n",
       "      <th>wondering</th>\n",
       "      <th>zombie</th>\n",
       "      <th>class</th>\n",
       "      <th>adr_presence</th>\n",
       "      <th>adr_count</th>\n",
       "    </tr>\n",
       "  </thead>\n",
       "  <tbody>\n",
       "    <tr>\n",
       "      <th>0</th>\n",
       "      <td>326379831954661376</td>\n",
       "      <td>0</td>\n",
       "      <td>1</td>\n",
       "      <td>0</td>\n",
       "      <td>0</td>\n",
       "      <td>0</td>\n",
       "      <td>0</td>\n",
       "      <td>0</td>\n",
       "      <td>0</td>\n",
       "      <td>0</td>\n",
       "      <td>...</td>\n",
       "      <td>0</td>\n",
       "      <td>0</td>\n",
       "      <td>0</td>\n",
       "      <td>0</td>\n",
       "      <td>0</td>\n",
       "      <td>0</td>\n",
       "      <td>0</td>\n",
       "      <td>N</td>\n",
       "      <td>1</td>\n",
       "      <td>1</td>\n",
       "    </tr>\n",
       "    <tr>\n",
       "      <th>1</th>\n",
       "      <td>326393333066919936</td>\n",
       "      <td>0</td>\n",
       "      <td>0</td>\n",
       "      <td>0</td>\n",
       "      <td>0</td>\n",
       "      <td>0</td>\n",
       "      <td>0</td>\n",
       "      <td>0</td>\n",
       "      <td>0</td>\n",
       "      <td>0</td>\n",
       "      <td>...</td>\n",
       "      <td>0</td>\n",
       "      <td>0</td>\n",
       "      <td>0</td>\n",
       "      <td>0</td>\n",
       "      <td>0</td>\n",
       "      <td>0</td>\n",
       "      <td>0</td>\n",
       "      <td>N</td>\n",
       "      <td>0</td>\n",
       "      <td>0</td>\n",
       "    </tr>\n",
       "    <tr>\n",
       "      <th>2</th>\n",
       "      <td>326398219192000512</td>\n",
       "      <td>0</td>\n",
       "      <td>0</td>\n",
       "      <td>0</td>\n",
       "      <td>0</td>\n",
       "      <td>0</td>\n",
       "      <td>0</td>\n",
       "      <td>0</td>\n",
       "      <td>0</td>\n",
       "      <td>1</td>\n",
       "      <td>...</td>\n",
       "      <td>0</td>\n",
       "      <td>0</td>\n",
       "      <td>0</td>\n",
       "      <td>0</td>\n",
       "      <td>0</td>\n",
       "      <td>0</td>\n",
       "      <td>0</td>\n",
       "      <td>N</td>\n",
       "      <td>0</td>\n",
       "      <td>0</td>\n",
       "    </tr>\n",
       "    <tr>\n",
       "      <th>3</th>\n",
       "      <td>326446459631321088</td>\n",
       "      <td>0</td>\n",
       "      <td>0</td>\n",
       "      <td>0</td>\n",
       "      <td>0</td>\n",
       "      <td>0</td>\n",
       "      <td>0</td>\n",
       "      <td>0</td>\n",
       "      <td>0</td>\n",
       "      <td>0</td>\n",
       "      <td>...</td>\n",
       "      <td>0</td>\n",
       "      <td>0</td>\n",
       "      <td>0</td>\n",
       "      <td>0</td>\n",
       "      <td>0</td>\n",
       "      <td>0</td>\n",
       "      <td>0</td>\n",
       "      <td>N</td>\n",
       "      <td>0</td>\n",
       "      <td>0</td>\n",
       "    </tr>\n",
       "    <tr>\n",
       "      <th>4</th>\n",
       "      <td>326468233978855426</td>\n",
       "      <td>0</td>\n",
       "      <td>0</td>\n",
       "      <td>0</td>\n",
       "      <td>0</td>\n",
       "      <td>0</td>\n",
       "      <td>0</td>\n",
       "      <td>0</td>\n",
       "      <td>0</td>\n",
       "      <td>0</td>\n",
       "      <td>...</td>\n",
       "      <td>1</td>\n",
       "      <td>0</td>\n",
       "      <td>0</td>\n",
       "      <td>0</td>\n",
       "      <td>0</td>\n",
       "      <td>0</td>\n",
       "      <td>0</td>\n",
       "      <td>N</td>\n",
       "      <td>0</td>\n",
       "      <td>0</td>\n",
       "    </tr>\n",
       "  </tbody>\n",
       "</table>\n",
       "<p>5 rows × 96 columns</p>\n",
       "</div>"
      ],
      "text/plain": [
       "                   id  allergic  am  appetite  bad  bananas  bed  been  body  \\\n",
       "0  326379831954661376         0   1         0    0        0    0     0     0   \n",
       "1  326393333066919936         0   0         0    0        0    0     0     0   \n",
       "2  326398219192000512         0   0         0    0        0    0     0     0   \n",
       "3  326446459631321088         0   0         0    0        0    0     0     0   \n",
       "4  326468233978855426         0   0         0    0        0    0     0     0   \n",
       "\n",
       "   but    ...      up  was  weight  withdrawal  withdrawals  wondering  \\\n",
       "0    0    ...       0    0       0           0            0          0   \n",
       "1    0    ...       0    0       0           0            0          0   \n",
       "2    1    ...       0    0       0           0            0          0   \n",
       "3    0    ...       0    0       0           0            0          0   \n",
       "4    0    ...       1    0       0           0            0          0   \n",
       "\n",
       "   zombie  class  adr_presence  adr_count  \n",
       "0       0      N             1          1  \n",
       "1       0      N             0          0  \n",
       "2       0      N             0          0  \n",
       "3       0      N             0          0  \n",
       "4       0      N             0          0  \n",
       "\n",
       "[5 rows x 96 columns]"
      ]
     },
     "execution_count": 69,
     "metadata": {},
     "output_type": "execute_result"
    }
   ],
   "source": [
    "## Add two new features to dev set\n",
    "dev_features_new = pd.read_csv('data/dev/dev.csv')\n",
    "dev_features_new['adr_presence'] = dev_features_new['id'].map(dev_adr_presence)\n",
    "dev_features_new['adr_count'] = dev_features_new['id'].map(dev_adr_count)\n",
    "dev_features_new.head()"
   ]
  },
  {
   "cell_type": "code",
   "execution_count": 70,
   "metadata": {},
   "outputs": [
    {
     "data": {
      "text/html": [
       "<div>\n",
       "<style>\n",
       "    .dataframe thead tr:only-child th {\n",
       "        text-align: right;\n",
       "    }\n",
       "\n",
       "    .dataframe thead th {\n",
       "        text-align: left;\n",
       "    }\n",
       "\n",
       "    .dataframe tbody tr th {\n",
       "        vertical-align: top;\n",
       "    }\n",
       "</style>\n",
       "<table border=\"1\" class=\"dataframe\">\n",
       "  <thead>\n",
       "    <tr style=\"text-align: right;\">\n",
       "      <th></th>\n",
       "      <th>id</th>\n",
       "      <th>allergic</th>\n",
       "      <th>am</th>\n",
       "      <th>appetite</th>\n",
       "      <th>bad</th>\n",
       "      <th>bananas</th>\n",
       "      <th>bed</th>\n",
       "      <th>been</th>\n",
       "      <th>body</th>\n",
       "      <th>but</th>\n",
       "      <th>...</th>\n",
       "      <th>up</th>\n",
       "      <th>was</th>\n",
       "      <th>weight</th>\n",
       "      <th>withdrawal</th>\n",
       "      <th>withdrawals</th>\n",
       "      <th>wondering</th>\n",
       "      <th>zombie</th>\n",
       "      <th>class</th>\n",
       "      <th>adr_presence</th>\n",
       "      <th>adr_count</th>\n",
       "    </tr>\n",
       "  </thead>\n",
       "  <tbody>\n",
       "    <tr>\n",
       "      <th>0</th>\n",
       "      <td>326428925972582402</td>\n",
       "      <td>0</td>\n",
       "      <td>0</td>\n",
       "      <td>0</td>\n",
       "      <td>0</td>\n",
       "      <td>0</td>\n",
       "      <td>0</td>\n",
       "      <td>0</td>\n",
       "      <td>0</td>\n",
       "      <td>0</td>\n",
       "      <td>...</td>\n",
       "      <td>0</td>\n",
       "      <td>0</td>\n",
       "      <td>0</td>\n",
       "      <td>0</td>\n",
       "      <td>0</td>\n",
       "      <td>0</td>\n",
       "      <td>0</td>\n",
       "      <td>?</td>\n",
       "      <td>1</td>\n",
       "      <td>2</td>\n",
       "    </tr>\n",
       "    <tr>\n",
       "      <th>1</th>\n",
       "      <td>326469551128723460</td>\n",
       "      <td>0</td>\n",
       "      <td>0</td>\n",
       "      <td>0</td>\n",
       "      <td>0</td>\n",
       "      <td>0</td>\n",
       "      <td>1</td>\n",
       "      <td>0</td>\n",
       "      <td>0</td>\n",
       "      <td>0</td>\n",
       "      <td>...</td>\n",
       "      <td>0</td>\n",
       "      <td>1</td>\n",
       "      <td>0</td>\n",
       "      <td>0</td>\n",
       "      <td>0</td>\n",
       "      <td>0</td>\n",
       "      <td>0</td>\n",
       "      <td>?</td>\n",
       "      <td>0</td>\n",
       "      <td>0</td>\n",
       "    </tr>\n",
       "    <tr>\n",
       "      <th>2</th>\n",
       "      <td>326496283516882944</td>\n",
       "      <td>0</td>\n",
       "      <td>0</td>\n",
       "      <td>0</td>\n",
       "      <td>0</td>\n",
       "      <td>0</td>\n",
       "      <td>0</td>\n",
       "      <td>0</td>\n",
       "      <td>0</td>\n",
       "      <td>0</td>\n",
       "      <td>...</td>\n",
       "      <td>0</td>\n",
       "      <td>0</td>\n",
       "      <td>0</td>\n",
       "      <td>0</td>\n",
       "      <td>0</td>\n",
       "      <td>0</td>\n",
       "      <td>0</td>\n",
       "      <td>?</td>\n",
       "      <td>0</td>\n",
       "      <td>0</td>\n",
       "    </tr>\n",
       "    <tr>\n",
       "      <th>3</th>\n",
       "      <td>326499885656461313</td>\n",
       "      <td>0</td>\n",
       "      <td>0</td>\n",
       "      <td>0</td>\n",
       "      <td>0</td>\n",
       "      <td>0</td>\n",
       "      <td>0</td>\n",
       "      <td>0</td>\n",
       "      <td>0</td>\n",
       "      <td>0</td>\n",
       "      <td>...</td>\n",
       "      <td>0</td>\n",
       "      <td>0</td>\n",
       "      <td>0</td>\n",
       "      <td>0</td>\n",
       "      <td>0</td>\n",
       "      <td>0</td>\n",
       "      <td>0</td>\n",
       "      <td>?</td>\n",
       "      <td>0</td>\n",
       "      <td>0</td>\n",
       "    </tr>\n",
       "    <tr>\n",
       "      <th>4</th>\n",
       "      <td>326532133399166976</td>\n",
       "      <td>0</td>\n",
       "      <td>0</td>\n",
       "      <td>0</td>\n",
       "      <td>0</td>\n",
       "      <td>0</td>\n",
       "      <td>0</td>\n",
       "      <td>0</td>\n",
       "      <td>0</td>\n",
       "      <td>0</td>\n",
       "      <td>...</td>\n",
       "      <td>0</td>\n",
       "      <td>0</td>\n",
       "      <td>0</td>\n",
       "      <td>0</td>\n",
       "      <td>0</td>\n",
       "      <td>0</td>\n",
       "      <td>0</td>\n",
       "      <td>?</td>\n",
       "      <td>0</td>\n",
       "      <td>0</td>\n",
       "    </tr>\n",
       "  </tbody>\n",
       "</table>\n",
       "<p>5 rows × 96 columns</p>\n",
       "</div>"
      ],
      "text/plain": [
       "                   id  allergic  am  appetite  bad  bananas  bed  been  body  \\\n",
       "0  326428925972582402         0   0         0    0        0    0     0     0   \n",
       "1  326469551128723460         0   0         0    0        0    1     0     0   \n",
       "2  326496283516882944         0   0         0    0        0    0     0     0   \n",
       "3  326499885656461313         0   0         0    0        0    0     0     0   \n",
       "4  326532133399166976         0   0         0    0        0    0     0     0   \n",
       "\n",
       "   but    ...      up  was  weight  withdrawal  withdrawals  wondering  \\\n",
       "0    0    ...       0    0       0           0            0          0   \n",
       "1    0    ...       0    1       0           0            0          0   \n",
       "2    0    ...       0    0       0           0            0          0   \n",
       "3    0    ...       0    0       0           0            0          0   \n",
       "4    0    ...       0    0       0           0            0          0   \n",
       "\n",
       "   zombie  class  adr_presence  adr_count  \n",
       "0       0      ?             1          2  \n",
       "1       0      ?             0          0  \n",
       "2       0      ?             0          0  \n",
       "3       0      ?             0          0  \n",
       "4       0      ?             0          0  \n",
       "\n",
       "[5 rows x 96 columns]"
      ]
     },
     "execution_count": 70,
     "metadata": {},
     "output_type": "execute_result"
    }
   ],
   "source": [
    "## Add two new features to test set\n",
    "test_features_new = pd.read_csv('data/test/test.csv')\n",
    "test_features_new['adr_presence'] = test_features_new['id'].map(test_adr_presence)\n",
    "test_features_new['adr_count'] = test_features_new['id'].map(test_adr_count)\n",
    "test_features_new.head()"
   ]
  },
  {
   "cell_type": "markdown",
   "metadata": {},
   "source": [
    "## Sentiment Analysis"
   ]
  },
  {
   "cell_type": "code",
   "execution_count": 71,
   "metadata": {},
   "outputs": [],
   "source": [
    "from vaderSentiment.vaderSentiment import SentimentIntensityAnalyzer\n",
    "analyzer = SentimentIntensityAnalyzer()"
   ]
  },
  {
   "cell_type": "code",
   "execution_count": 72,
   "metadata": {},
   "outputs": [],
   "source": [
    "## Map training data to ADR lexical\n",
    "train_sentiment = {}\n",
    "\n",
    "for data in train_tw_all:\n",
    "    tweet = data['text']\n",
    "    id = int(data['id'])\n",
    "    \n",
    "    scores = analyzer.polarity_scores(tweet)\n",
    "    train_sentiment[id] = 1 if scores['compound'] <= -0.5 else 0"
   ]
  },
  {
   "cell_type": "code",
   "execution_count": 73,
   "metadata": {},
   "outputs": [],
   "source": [
    "## Map dev data to ADR lexical\n",
    "dev_sentiment = {}\n",
    "\n",
    "for data in dev_tw_all:\n",
    "    tweet = data['text']\n",
    "    id = int(data['id'])\n",
    "    \n",
    "    scores = analyzer.polarity_scores(tweet)\n",
    "    dev_sentiment[id] = 1 if scores['compound'] <= 0.5 else 0"
   ]
  },
  {
   "cell_type": "code",
   "execution_count": 74,
   "metadata": {},
   "outputs": [],
   "source": [
    "## Map test data to ADR lexical\n",
    "test_sentiment = {}\n",
    "\n",
    "for data in test_tw_all:\n",
    "    tweet = data['text']\n",
    "    id = int(data['id'])\n",
    "    \n",
    "    scores = analyzer.polarity_scores(tweet)\n",
    "    test_sentiment[id] = 1 if scores['compound'] <= 0.5 else 0"
   ]
  },
  {
   "cell_type": "code",
   "execution_count": 75,
   "metadata": {},
   "outputs": [],
   "source": [
    "dev_features_new['neg_sent'] = dev_features_new['id'].map(dev_sentiment)\n",
    "train_features_new['neg_sent'] = train_features_new['id'].map(train_sentiment)\n",
    "test_features_new['neg_sent'] = test_features_new['id'].map(test_sentiment)"
   ]
  },
  {
   "cell_type": "code",
   "execution_count": 76,
   "metadata": {},
   "outputs": [
    {
     "data": {
      "text/html": [
       "<div>\n",
       "<style>\n",
       "    .dataframe thead tr:only-child th {\n",
       "        text-align: right;\n",
       "    }\n",
       "\n",
       "    .dataframe thead th {\n",
       "        text-align: left;\n",
       "    }\n",
       "\n",
       "    .dataframe tbody tr th {\n",
       "        vertical-align: top;\n",
       "    }\n",
       "</style>\n",
       "<table border=\"1\" class=\"dataframe\">\n",
       "  <thead>\n",
       "    <tr style=\"text-align: right;\">\n",
       "      <th></th>\n",
       "      <th>id</th>\n",
       "      <th>allergic</th>\n",
       "      <th>am</th>\n",
       "      <th>appetite</th>\n",
       "      <th>bad</th>\n",
       "      <th>bananas</th>\n",
       "      <th>bed</th>\n",
       "      <th>been</th>\n",
       "      <th>body</th>\n",
       "      <th>but</th>\n",
       "      <th>...</th>\n",
       "      <th>was</th>\n",
       "      <th>weight</th>\n",
       "      <th>withdrawal</th>\n",
       "      <th>withdrawals</th>\n",
       "      <th>wondering</th>\n",
       "      <th>zombie</th>\n",
       "      <th>class</th>\n",
       "      <th>adr_presence</th>\n",
       "      <th>adr_count</th>\n",
       "      <th>neg_sent</th>\n",
       "    </tr>\n",
       "  </thead>\n",
       "  <tbody>\n",
       "    <tr>\n",
       "      <th>0</th>\n",
       "      <td>326376825590779905</td>\n",
       "      <td>0</td>\n",
       "      <td>0</td>\n",
       "      <td>0</td>\n",
       "      <td>0</td>\n",
       "      <td>0</td>\n",
       "      <td>0</td>\n",
       "      <td>0</td>\n",
       "      <td>0</td>\n",
       "      <td>0</td>\n",
       "      <td>...</td>\n",
       "      <td>0</td>\n",
       "      <td>0</td>\n",
       "      <td>0</td>\n",
       "      <td>0</td>\n",
       "      <td>0</td>\n",
       "      <td>0</td>\n",
       "      <td>N</td>\n",
       "      <td>1</td>\n",
       "      <td>2</td>\n",
       "      <td>0</td>\n",
       "    </tr>\n",
       "    <tr>\n",
       "      <th>1</th>\n",
       "      <td>326398829849092097</td>\n",
       "      <td>0</td>\n",
       "      <td>0</td>\n",
       "      <td>0</td>\n",
       "      <td>0</td>\n",
       "      <td>0</td>\n",
       "      <td>0</td>\n",
       "      <td>0</td>\n",
       "      <td>0</td>\n",
       "      <td>0</td>\n",
       "      <td>...</td>\n",
       "      <td>0</td>\n",
       "      <td>1</td>\n",
       "      <td>0</td>\n",
       "      <td>0</td>\n",
       "      <td>0</td>\n",
       "      <td>0</td>\n",
       "      <td>Y</td>\n",
       "      <td>1</td>\n",
       "      <td>1</td>\n",
       "      <td>0</td>\n",
       "    </tr>\n",
       "    <tr>\n",
       "      <th>2</th>\n",
       "      <td>326406322323066883</td>\n",
       "      <td>0</td>\n",
       "      <td>0</td>\n",
       "      <td>0</td>\n",
       "      <td>0</td>\n",
       "      <td>0</td>\n",
       "      <td>0</td>\n",
       "      <td>0</td>\n",
       "      <td>0</td>\n",
       "      <td>1</td>\n",
       "      <td>...</td>\n",
       "      <td>0</td>\n",
       "      <td>0</td>\n",
       "      <td>0</td>\n",
       "      <td>0</td>\n",
       "      <td>0</td>\n",
       "      <td>1</td>\n",
       "      <td>Y</td>\n",
       "      <td>1</td>\n",
       "      <td>1</td>\n",
       "      <td>1</td>\n",
       "    </tr>\n",
       "    <tr>\n",
       "      <th>3</th>\n",
       "      <td>326407491460141056</td>\n",
       "      <td>0</td>\n",
       "      <td>0</td>\n",
       "      <td>0</td>\n",
       "      <td>0</td>\n",
       "      <td>0</td>\n",
       "      <td>0</td>\n",
       "      <td>0</td>\n",
       "      <td>0</td>\n",
       "      <td>0</td>\n",
       "      <td>...</td>\n",
       "      <td>0</td>\n",
       "      <td>0</td>\n",
       "      <td>0</td>\n",
       "      <td>0</td>\n",
       "      <td>0</td>\n",
       "      <td>0</td>\n",
       "      <td>N</td>\n",
       "      <td>1</td>\n",
       "      <td>2</td>\n",
       "      <td>0</td>\n",
       "    </tr>\n",
       "    <tr>\n",
       "      <th>4</th>\n",
       "      <td>326453069795688449</td>\n",
       "      <td>0</td>\n",
       "      <td>0</td>\n",
       "      <td>0</td>\n",
       "      <td>0</td>\n",
       "      <td>0</td>\n",
       "      <td>0</td>\n",
       "      <td>0</td>\n",
       "      <td>0</td>\n",
       "      <td>0</td>\n",
       "      <td>...</td>\n",
       "      <td>0</td>\n",
       "      <td>0</td>\n",
       "      <td>0</td>\n",
       "      <td>0</td>\n",
       "      <td>0</td>\n",
       "      <td>0</td>\n",
       "      <td>N</td>\n",
       "      <td>0</td>\n",
       "      <td>0</td>\n",
       "      <td>0</td>\n",
       "    </tr>\n",
       "  </tbody>\n",
       "</table>\n",
       "<p>5 rows × 97 columns</p>\n",
       "</div>"
      ],
      "text/plain": [
       "                   id  allergic  am  appetite  bad  bananas  bed  been  body  \\\n",
       "0  326376825590779905         0   0         0    0        0    0     0     0   \n",
       "1  326398829849092097         0   0         0    0        0    0     0     0   \n",
       "2  326406322323066883         0   0         0    0        0    0     0     0   \n",
       "3  326407491460141056         0   0         0    0        0    0     0     0   \n",
       "4  326453069795688449         0   0         0    0        0    0     0     0   \n",
       "\n",
       "   but    ...     was  weight  withdrawal  withdrawals  wondering  zombie  \\\n",
       "0    0    ...       0       0           0            0          0       0   \n",
       "1    0    ...       0       1           0            0          0       0   \n",
       "2    1    ...       0       0           0            0          0       1   \n",
       "3    0    ...       0       0           0            0          0       0   \n",
       "4    0    ...       0       0           0            0          0       0   \n",
       "\n",
       "   class  adr_presence  adr_count  neg_sent  \n",
       "0      N             1          2         0  \n",
       "1      Y             1          1         0  \n",
       "2      Y             1          1         1  \n",
       "3      N             1          2         0  \n",
       "4      N             0          0         0  \n",
       "\n",
       "[5 rows x 97 columns]"
      ]
     },
     "execution_count": 76,
     "metadata": {},
     "output_type": "execute_result"
    }
   ],
   "source": [
    "train_features_new.head()"
   ]
  },
  {
   "cell_type": "code",
   "execution_count": 77,
   "metadata": {},
   "outputs": [
    {
     "data": {
      "text/html": [
       "<div>\n",
       "<style>\n",
       "    .dataframe thead tr:only-child th {\n",
       "        text-align: right;\n",
       "    }\n",
       "\n",
       "    .dataframe thead th {\n",
       "        text-align: left;\n",
       "    }\n",
       "\n",
       "    .dataframe tbody tr th {\n",
       "        vertical-align: top;\n",
       "    }\n",
       "</style>\n",
       "<table border=\"1\" class=\"dataframe\">\n",
       "  <thead>\n",
       "    <tr style=\"text-align: right;\">\n",
       "      <th></th>\n",
       "      <th>id</th>\n",
       "      <th>allergic</th>\n",
       "      <th>am</th>\n",
       "      <th>appetite</th>\n",
       "      <th>bad</th>\n",
       "      <th>bananas</th>\n",
       "      <th>bed</th>\n",
       "      <th>been</th>\n",
       "      <th>body</th>\n",
       "      <th>but</th>\n",
       "      <th>...</th>\n",
       "      <th>was</th>\n",
       "      <th>weight</th>\n",
       "      <th>withdrawal</th>\n",
       "      <th>withdrawals</th>\n",
       "      <th>wondering</th>\n",
       "      <th>zombie</th>\n",
       "      <th>class</th>\n",
       "      <th>adr_presence</th>\n",
       "      <th>adr_count</th>\n",
       "      <th>neg_sent</th>\n",
       "    </tr>\n",
       "  </thead>\n",
       "  <tbody>\n",
       "    <tr>\n",
       "      <th>0</th>\n",
       "      <td>326379831954661376</td>\n",
       "      <td>0</td>\n",
       "      <td>1</td>\n",
       "      <td>0</td>\n",
       "      <td>0</td>\n",
       "      <td>0</td>\n",
       "      <td>0</td>\n",
       "      <td>0</td>\n",
       "      <td>0</td>\n",
       "      <td>0</td>\n",
       "      <td>...</td>\n",
       "      <td>0</td>\n",
       "      <td>0</td>\n",
       "      <td>0</td>\n",
       "      <td>0</td>\n",
       "      <td>0</td>\n",
       "      <td>0</td>\n",
       "      <td>N</td>\n",
       "      <td>1</td>\n",
       "      <td>1</td>\n",
       "      <td>0</td>\n",
       "    </tr>\n",
       "    <tr>\n",
       "      <th>1</th>\n",
       "      <td>326393333066919936</td>\n",
       "      <td>0</td>\n",
       "      <td>0</td>\n",
       "      <td>0</td>\n",
       "      <td>0</td>\n",
       "      <td>0</td>\n",
       "      <td>0</td>\n",
       "      <td>0</td>\n",
       "      <td>0</td>\n",
       "      <td>0</td>\n",
       "      <td>...</td>\n",
       "      <td>0</td>\n",
       "      <td>0</td>\n",
       "      <td>0</td>\n",
       "      <td>0</td>\n",
       "      <td>0</td>\n",
       "      <td>0</td>\n",
       "      <td>N</td>\n",
       "      <td>0</td>\n",
       "      <td>0</td>\n",
       "      <td>1</td>\n",
       "    </tr>\n",
       "    <tr>\n",
       "      <th>2</th>\n",
       "      <td>326398219192000512</td>\n",
       "      <td>0</td>\n",
       "      <td>0</td>\n",
       "      <td>0</td>\n",
       "      <td>0</td>\n",
       "      <td>0</td>\n",
       "      <td>0</td>\n",
       "      <td>0</td>\n",
       "      <td>0</td>\n",
       "      <td>1</td>\n",
       "      <td>...</td>\n",
       "      <td>0</td>\n",
       "      <td>0</td>\n",
       "      <td>0</td>\n",
       "      <td>0</td>\n",
       "      <td>0</td>\n",
       "      <td>0</td>\n",
       "      <td>N</td>\n",
       "      <td>0</td>\n",
       "      <td>0</td>\n",
       "      <td>1</td>\n",
       "    </tr>\n",
       "    <tr>\n",
       "      <th>3</th>\n",
       "      <td>326446459631321088</td>\n",
       "      <td>0</td>\n",
       "      <td>0</td>\n",
       "      <td>0</td>\n",
       "      <td>0</td>\n",
       "      <td>0</td>\n",
       "      <td>0</td>\n",
       "      <td>0</td>\n",
       "      <td>0</td>\n",
       "      <td>0</td>\n",
       "      <td>...</td>\n",
       "      <td>0</td>\n",
       "      <td>0</td>\n",
       "      <td>0</td>\n",
       "      <td>0</td>\n",
       "      <td>0</td>\n",
       "      <td>0</td>\n",
       "      <td>N</td>\n",
       "      <td>0</td>\n",
       "      <td>0</td>\n",
       "      <td>1</td>\n",
       "    </tr>\n",
       "    <tr>\n",
       "      <th>4</th>\n",
       "      <td>326468233978855426</td>\n",
       "      <td>0</td>\n",
       "      <td>0</td>\n",
       "      <td>0</td>\n",
       "      <td>0</td>\n",
       "      <td>0</td>\n",
       "      <td>0</td>\n",
       "      <td>0</td>\n",
       "      <td>0</td>\n",
       "      <td>0</td>\n",
       "      <td>...</td>\n",
       "      <td>0</td>\n",
       "      <td>0</td>\n",
       "      <td>0</td>\n",
       "      <td>0</td>\n",
       "      <td>0</td>\n",
       "      <td>0</td>\n",
       "      <td>N</td>\n",
       "      <td>0</td>\n",
       "      <td>0</td>\n",
       "      <td>1</td>\n",
       "    </tr>\n",
       "  </tbody>\n",
       "</table>\n",
       "<p>5 rows × 97 columns</p>\n",
       "</div>"
      ],
      "text/plain": [
       "                   id  allergic  am  appetite  bad  bananas  bed  been  body  \\\n",
       "0  326379831954661376         0   1         0    0        0    0     0     0   \n",
       "1  326393333066919936         0   0         0    0        0    0     0     0   \n",
       "2  326398219192000512         0   0         0    0        0    0     0     0   \n",
       "3  326446459631321088         0   0         0    0        0    0     0     0   \n",
       "4  326468233978855426         0   0         0    0        0    0     0     0   \n",
       "\n",
       "   but    ...     was  weight  withdrawal  withdrawals  wondering  zombie  \\\n",
       "0    0    ...       0       0           0            0          0       0   \n",
       "1    0    ...       0       0           0            0          0       0   \n",
       "2    1    ...       0       0           0            0          0       0   \n",
       "3    0    ...       0       0           0            0          0       0   \n",
       "4    0    ...       0       0           0            0          0       0   \n",
       "\n",
       "   class  adr_presence  adr_count  neg_sent  \n",
       "0      N             1          1         0  \n",
       "1      N             0          0         1  \n",
       "2      N             0          0         1  \n",
       "3      N             0          0         1  \n",
       "4      N             0          0         1  \n",
       "\n",
       "[5 rows x 97 columns]"
      ]
     },
     "execution_count": 77,
     "metadata": {},
     "output_type": "execute_result"
    }
   ],
   "source": [
    "dev_features_new.head()"
   ]
  },
  {
   "cell_type": "code",
   "execution_count": 78,
   "metadata": {},
   "outputs": [
    {
     "data": {
      "text/html": [
       "<div>\n",
       "<style>\n",
       "    .dataframe thead tr:only-child th {\n",
       "        text-align: right;\n",
       "    }\n",
       "\n",
       "    .dataframe thead th {\n",
       "        text-align: left;\n",
       "    }\n",
       "\n",
       "    .dataframe tbody tr th {\n",
       "        vertical-align: top;\n",
       "    }\n",
       "</style>\n",
       "<table border=\"1\" class=\"dataframe\">\n",
       "  <thead>\n",
       "    <tr style=\"text-align: right;\">\n",
       "      <th></th>\n",
       "      <th>id</th>\n",
       "      <th>allergic</th>\n",
       "      <th>am</th>\n",
       "      <th>appetite</th>\n",
       "      <th>bad</th>\n",
       "      <th>bananas</th>\n",
       "      <th>bed</th>\n",
       "      <th>been</th>\n",
       "      <th>body</th>\n",
       "      <th>but</th>\n",
       "      <th>...</th>\n",
       "      <th>was</th>\n",
       "      <th>weight</th>\n",
       "      <th>withdrawal</th>\n",
       "      <th>withdrawals</th>\n",
       "      <th>wondering</th>\n",
       "      <th>zombie</th>\n",
       "      <th>class</th>\n",
       "      <th>adr_presence</th>\n",
       "      <th>adr_count</th>\n",
       "      <th>neg_sent</th>\n",
       "    </tr>\n",
       "  </thead>\n",
       "  <tbody>\n",
       "    <tr>\n",
       "      <th>0</th>\n",
       "      <td>326428925972582402</td>\n",
       "      <td>0</td>\n",
       "      <td>0</td>\n",
       "      <td>0</td>\n",
       "      <td>0</td>\n",
       "      <td>0</td>\n",
       "      <td>0</td>\n",
       "      <td>0</td>\n",
       "      <td>0</td>\n",
       "      <td>0</td>\n",
       "      <td>...</td>\n",
       "      <td>0</td>\n",
       "      <td>0</td>\n",
       "      <td>0</td>\n",
       "      <td>0</td>\n",
       "      <td>0</td>\n",
       "      <td>0</td>\n",
       "      <td>?</td>\n",
       "      <td>1</td>\n",
       "      <td>2</td>\n",
       "      <td>1</td>\n",
       "    </tr>\n",
       "    <tr>\n",
       "      <th>1</th>\n",
       "      <td>326469551128723460</td>\n",
       "      <td>0</td>\n",
       "      <td>0</td>\n",
       "      <td>0</td>\n",
       "      <td>0</td>\n",
       "      <td>0</td>\n",
       "      <td>1</td>\n",
       "      <td>0</td>\n",
       "      <td>0</td>\n",
       "      <td>0</td>\n",
       "      <td>...</td>\n",
       "      <td>1</td>\n",
       "      <td>0</td>\n",
       "      <td>0</td>\n",
       "      <td>0</td>\n",
       "      <td>0</td>\n",
       "      <td>0</td>\n",
       "      <td>?</td>\n",
       "      <td>0</td>\n",
       "      <td>0</td>\n",
       "      <td>1</td>\n",
       "    </tr>\n",
       "    <tr>\n",
       "      <th>2</th>\n",
       "      <td>326496283516882944</td>\n",
       "      <td>0</td>\n",
       "      <td>0</td>\n",
       "      <td>0</td>\n",
       "      <td>0</td>\n",
       "      <td>0</td>\n",
       "      <td>0</td>\n",
       "      <td>0</td>\n",
       "      <td>0</td>\n",
       "      <td>0</td>\n",
       "      <td>...</td>\n",
       "      <td>0</td>\n",
       "      <td>0</td>\n",
       "      <td>0</td>\n",
       "      <td>0</td>\n",
       "      <td>0</td>\n",
       "      <td>0</td>\n",
       "      <td>?</td>\n",
       "      <td>0</td>\n",
       "      <td>0</td>\n",
       "      <td>1</td>\n",
       "    </tr>\n",
       "    <tr>\n",
       "      <th>3</th>\n",
       "      <td>326499885656461313</td>\n",
       "      <td>0</td>\n",
       "      <td>0</td>\n",
       "      <td>0</td>\n",
       "      <td>0</td>\n",
       "      <td>0</td>\n",
       "      <td>0</td>\n",
       "      <td>0</td>\n",
       "      <td>0</td>\n",
       "      <td>0</td>\n",
       "      <td>...</td>\n",
       "      <td>0</td>\n",
       "      <td>0</td>\n",
       "      <td>0</td>\n",
       "      <td>0</td>\n",
       "      <td>0</td>\n",
       "      <td>0</td>\n",
       "      <td>?</td>\n",
       "      <td>0</td>\n",
       "      <td>0</td>\n",
       "      <td>0</td>\n",
       "    </tr>\n",
       "    <tr>\n",
       "      <th>4</th>\n",
       "      <td>326532133399166976</td>\n",
       "      <td>0</td>\n",
       "      <td>0</td>\n",
       "      <td>0</td>\n",
       "      <td>0</td>\n",
       "      <td>0</td>\n",
       "      <td>0</td>\n",
       "      <td>0</td>\n",
       "      <td>0</td>\n",
       "      <td>0</td>\n",
       "      <td>...</td>\n",
       "      <td>0</td>\n",
       "      <td>0</td>\n",
       "      <td>0</td>\n",
       "      <td>0</td>\n",
       "      <td>0</td>\n",
       "      <td>0</td>\n",
       "      <td>?</td>\n",
       "      <td>0</td>\n",
       "      <td>0</td>\n",
       "      <td>1</td>\n",
       "    </tr>\n",
       "  </tbody>\n",
       "</table>\n",
       "<p>5 rows × 97 columns</p>\n",
       "</div>"
      ],
      "text/plain": [
       "                   id  allergic  am  appetite  bad  bananas  bed  been  body  \\\n",
       "0  326428925972582402         0   0         0    0        0    0     0     0   \n",
       "1  326469551128723460         0   0         0    0        0    1     0     0   \n",
       "2  326496283516882944         0   0         0    0        0    0     0     0   \n",
       "3  326499885656461313         0   0         0    0        0    0     0     0   \n",
       "4  326532133399166976         0   0         0    0        0    0     0     0   \n",
       "\n",
       "   but    ...     was  weight  withdrawal  withdrawals  wondering  zombie  \\\n",
       "0    0    ...       0       0           0            0          0       0   \n",
       "1    0    ...       1       0           0            0          0       0   \n",
       "2    0    ...       0       0           0            0          0       0   \n",
       "3    0    ...       0       0           0            0          0       0   \n",
       "4    0    ...       0       0           0            0          0       0   \n",
       "\n",
       "   class  adr_presence  adr_count  neg_sent  \n",
       "0      ?             1          2         1  \n",
       "1      ?             0          0         1  \n",
       "2      ?             0          0         1  \n",
       "3      ?             0          0         0  \n",
       "4      ?             0          0         1  \n",
       "\n",
       "[5 rows x 97 columns]"
      ]
     },
     "execution_count": 78,
     "metadata": {},
     "output_type": "execute_result"
    }
   ],
   "source": [
    "test_features_new.head()"
   ]
  },
  {
   "cell_type": "markdown",
   "metadata": {},
   "source": [
    "## Setup Training / Dev / Test Data"
   ]
  },
  {
   "cell_type": "markdown",
   "metadata": {},
   "source": [
    "### Training"
   ]
  },
  {
   "cell_type": "code",
   "execution_count": 79,
   "metadata": {},
   "outputs": [],
   "source": [
    "train_feat_adr = train_features_new.copy(deep=True)\n",
    "train_feat_sent = train_features_new.copy(deep=True)\n",
    "train_feat_all = train_features_new.copy(deep=True)\n",
    "\n",
    "train_features_label_new = train_features_new['class']\n",
    "# Only ADR Lexicon\n",
    "train_feat_adr.drop('class', axis = 1, inplace = True)\n",
    "train_feat_adr.drop('id', axis = 1, inplace = True)\n",
    "train_feat_adr.drop('neg_sent', axis = 1, inplace = True)\n",
    "\n",
    "# Only with negative sentiment\n",
    "train_feat_sent.drop('class', axis = 1, inplace = True)\n",
    "train_feat_sent.drop('id', axis = 1, inplace = True)\n",
    "train_feat_sent.drop('adr_presence', axis = 1, inplace = True)\n",
    "train_feat_sent.drop('adr_count', axis = 1, inplace = True)\n",
    "\n",
    "# All new features\n",
    "train_feat_all.drop('class', axis = 1, inplace = True)\n",
    "train_feat_all.drop('id', axis = 1, inplace = True)"
   ]
  },
  {
   "cell_type": "markdown",
   "metadata": {},
   "source": [
    "### Development"
   ]
  },
  {
   "cell_type": "code",
   "execution_count": 80,
   "metadata": {},
   "outputs": [],
   "source": [
    "dev_feat_adr = dev_features_new.copy(deep=True)\n",
    "dev_feat_sent = dev_features_new.copy(deep=True)\n",
    "dev_feat_all = dev_features_new.copy(deep=True)\n",
    "\n",
    "dev_class_new = dev_features_new['class']\n",
    "# Only ADR Lexicon\n",
    "dev_feat_adr.drop('class', axis = 1, inplace = True)\n",
    "dev_feat_adr.drop('id', axis = 1, inplace = True)\n",
    "dev_feat_adr.drop('neg_sent', axis = 1, inplace = True)\n",
    "\n",
    "# Only with negative sentiment\n",
    "dev_feat_sent.drop('class', axis = 1, inplace = True)\n",
    "dev_feat_sent.drop('id', axis = 1, inplace = True)\n",
    "dev_feat_sent.drop('adr_presence', axis = 1, inplace = True)\n",
    "dev_feat_sent.drop('adr_count', axis = 1, inplace = True)\n",
    "\n",
    "# All new features\n",
    "dev_feat_all.drop('class', axis = 1, inplace = True)\n",
    "dev_feat_all.drop('id', axis = 1, inplace = True)"
   ]
  },
  {
   "cell_type": "markdown",
   "metadata": {},
   "source": [
    "### Test"
   ]
  },
  {
   "cell_type": "code",
   "execution_count": 81,
   "metadata": {},
   "outputs": [
    {
     "data": {
      "text/html": [
       "<div>\n",
       "<style>\n",
       "    .dataframe thead tr:only-child th {\n",
       "        text-align: right;\n",
       "    }\n",
       "\n",
       "    .dataframe thead th {\n",
       "        text-align: left;\n",
       "    }\n",
       "\n",
       "    .dataframe tbody tr th {\n",
       "        vertical-align: top;\n",
       "    }\n",
       "</style>\n",
       "<table border=\"1\" class=\"dataframe\">\n",
       "  <thead>\n",
       "    <tr style=\"text-align: right;\">\n",
       "      <th></th>\n",
       "      <th>allergic</th>\n",
       "      <th>am</th>\n",
       "      <th>appetite</th>\n",
       "      <th>bad</th>\n",
       "      <th>bananas</th>\n",
       "      <th>bed</th>\n",
       "      <th>been</th>\n",
       "      <th>body</th>\n",
       "      <th>but</th>\n",
       "      <th>can</th>\n",
       "      <th>...</th>\n",
       "      <th>up</th>\n",
       "      <th>was</th>\n",
       "      <th>weight</th>\n",
       "      <th>withdrawal</th>\n",
       "      <th>withdrawals</th>\n",
       "      <th>wondering</th>\n",
       "      <th>zombie</th>\n",
       "      <th>adr_presence</th>\n",
       "      <th>adr_count</th>\n",
       "      <th>neg_sent</th>\n",
       "    </tr>\n",
       "  </thead>\n",
       "  <tbody>\n",
       "    <tr>\n",
       "      <th>0</th>\n",
       "      <td>0</td>\n",
       "      <td>0</td>\n",
       "      <td>0</td>\n",
       "      <td>0</td>\n",
       "      <td>0</td>\n",
       "      <td>0</td>\n",
       "      <td>0</td>\n",
       "      <td>0</td>\n",
       "      <td>0</td>\n",
       "      <td>0</td>\n",
       "      <td>...</td>\n",
       "      <td>0</td>\n",
       "      <td>0</td>\n",
       "      <td>0</td>\n",
       "      <td>0</td>\n",
       "      <td>0</td>\n",
       "      <td>0</td>\n",
       "      <td>0</td>\n",
       "      <td>1</td>\n",
       "      <td>2</td>\n",
       "      <td>1</td>\n",
       "    </tr>\n",
       "    <tr>\n",
       "      <th>1</th>\n",
       "      <td>0</td>\n",
       "      <td>0</td>\n",
       "      <td>0</td>\n",
       "      <td>0</td>\n",
       "      <td>0</td>\n",
       "      <td>1</td>\n",
       "      <td>0</td>\n",
       "      <td>0</td>\n",
       "      <td>0</td>\n",
       "      <td>0</td>\n",
       "      <td>...</td>\n",
       "      <td>0</td>\n",
       "      <td>1</td>\n",
       "      <td>0</td>\n",
       "      <td>0</td>\n",
       "      <td>0</td>\n",
       "      <td>0</td>\n",
       "      <td>0</td>\n",
       "      <td>0</td>\n",
       "      <td>0</td>\n",
       "      <td>1</td>\n",
       "    </tr>\n",
       "    <tr>\n",
       "      <th>2</th>\n",
       "      <td>0</td>\n",
       "      <td>0</td>\n",
       "      <td>0</td>\n",
       "      <td>0</td>\n",
       "      <td>0</td>\n",
       "      <td>0</td>\n",
       "      <td>0</td>\n",
       "      <td>0</td>\n",
       "      <td>0</td>\n",
       "      <td>0</td>\n",
       "      <td>...</td>\n",
       "      <td>0</td>\n",
       "      <td>0</td>\n",
       "      <td>0</td>\n",
       "      <td>0</td>\n",
       "      <td>0</td>\n",
       "      <td>0</td>\n",
       "      <td>0</td>\n",
       "      <td>0</td>\n",
       "      <td>0</td>\n",
       "      <td>1</td>\n",
       "    </tr>\n",
       "    <tr>\n",
       "      <th>3</th>\n",
       "      <td>0</td>\n",
       "      <td>0</td>\n",
       "      <td>0</td>\n",
       "      <td>0</td>\n",
       "      <td>0</td>\n",
       "      <td>0</td>\n",
       "      <td>0</td>\n",
       "      <td>0</td>\n",
       "      <td>0</td>\n",
       "      <td>0</td>\n",
       "      <td>...</td>\n",
       "      <td>0</td>\n",
       "      <td>0</td>\n",
       "      <td>0</td>\n",
       "      <td>0</td>\n",
       "      <td>0</td>\n",
       "      <td>0</td>\n",
       "      <td>0</td>\n",
       "      <td>0</td>\n",
       "      <td>0</td>\n",
       "      <td>0</td>\n",
       "    </tr>\n",
       "    <tr>\n",
       "      <th>4</th>\n",
       "      <td>0</td>\n",
       "      <td>0</td>\n",
       "      <td>0</td>\n",
       "      <td>0</td>\n",
       "      <td>0</td>\n",
       "      <td>0</td>\n",
       "      <td>0</td>\n",
       "      <td>0</td>\n",
       "      <td>0</td>\n",
       "      <td>0</td>\n",
       "      <td>...</td>\n",
       "      <td>0</td>\n",
       "      <td>0</td>\n",
       "      <td>0</td>\n",
       "      <td>0</td>\n",
       "      <td>0</td>\n",
       "      <td>0</td>\n",
       "      <td>0</td>\n",
       "      <td>0</td>\n",
       "      <td>0</td>\n",
       "      <td>1</td>\n",
       "    </tr>\n",
       "  </tbody>\n",
       "</table>\n",
       "<p>5 rows × 95 columns</p>\n",
       "</div>"
      ],
      "text/plain": [
       "   allergic  am  appetite  bad  bananas  bed  been  body  but  can    ...     \\\n",
       "0         0   0         0    0        0    0     0     0    0    0    ...      \n",
       "1         0   0         0    0        0    1     0     0    0    0    ...      \n",
       "2         0   0         0    0        0    0     0     0    0    0    ...      \n",
       "3         0   0         0    0        0    0     0     0    0    0    ...      \n",
       "4         0   0         0    0        0    0     0     0    0    0    ...      \n",
       "\n",
       "   up  was  weight  withdrawal  withdrawals  wondering  zombie  adr_presence  \\\n",
       "0   0    0       0           0            0          0       0             1   \n",
       "1   0    1       0           0            0          0       0             0   \n",
       "2   0    0       0           0            0          0       0             0   \n",
       "3   0    0       0           0            0          0       0             0   \n",
       "4   0    0       0           0            0          0       0             0   \n",
       "\n",
       "   adr_count  neg_sent  \n",
       "0          2         1  \n",
       "1          0         1  \n",
       "2          0         1  \n",
       "3          0         0  \n",
       "4          0         1  \n",
       "\n",
       "[5 rows x 95 columns]"
      ]
     },
     "execution_count": 81,
     "metadata": {},
     "output_type": "execute_result"
    }
   ],
   "source": [
    "test_feat_all = test_features_new.copy(deep=True)\n",
    "\n",
    "# All new features\n",
    "test_feat_all.drop('class', axis = 1, inplace = True)\n",
    "test_feat_all.drop('id', axis = 1, inplace = True)\n",
    "test_feat_all.head()"
   ]
  },
  {
   "cell_type": "markdown",
   "metadata": {},
   "source": [
    "# Phase 2 experiment\n",
    "## Random Forest"
   ]
  },
  {
   "cell_type": "code",
   "execution_count": 341,
   "metadata": {},
   "outputs": [
    {
     "data": {
      "text/plain": [
       "RandomForestClassifier(bootstrap=True, class_weight=None, criterion='gini',\n",
       "            max_depth=23, max_features='auto', max_leaf_nodes=None,\n",
       "            min_impurity_decrease=0.0, min_impurity_split=None,\n",
       "            min_samples_leaf=1, min_samples_split=2,\n",
       "            min_weight_fraction_leaf=0.0, n_estimators=10, n_jobs=1,\n",
       "            oob_score=False, random_state=None, verbose=0,\n",
       "            warm_start=False)"
      ]
     },
     "execution_count": 341,
     "metadata": {},
     "output_type": "execute_result"
    }
   ],
   "source": [
    "rf_clf_adr = RandomForestClassifier(max_depth=23)\n",
    "rf_clf_adr.fit(train_feat_adr, train_features_label_new)\n",
    "\n",
    "rf_clf_sent = RandomForestClassifier(max_depth=23)\n",
    "rf_clf_sent.fit(train_feat_sent, train_features_label_new)\n",
    "\n",
    "rf_clf_all = RandomForestClassifier(max_depth=23)\n",
    "rf_clf_all.fit(train_feat_all, train_features_label_new)"
   ]
  },
  {
   "cell_type": "code",
   "execution_count": 342,
   "metadata": {},
   "outputs": [],
   "source": [
    "dev_pred_adr = rf_clf_adr.predict(dev_feat_adr)\n",
    "dev_pred_sent = rf_clf_sent.predict(dev_feat_sent)\n",
    "dev_pred_all = rf_clf_all.predict(dev_feat_all)"
   ]
  },
  {
   "cell_type": "code",
   "execution_count": 343,
   "metadata": {},
   "outputs": [
    {
     "data": {
      "text/plain": [
       "array([[ 16,  98],\n",
       "       [ 12, 950]])"
      ]
     },
     "execution_count": 343,
     "metadata": {},
     "output_type": "execute_result"
    }
   ],
   "source": [
    "confusion_matrix(dev_class_new, dev_pred_adr,labels = [\"Y\",\"N\"])"
   ]
  },
  {
   "cell_type": "code",
   "execution_count": 344,
   "metadata": {},
   "outputs": [
    {
     "data": {
      "text/plain": [
       "array([[ 11, 103],\n",
       "       [ 23, 939]])"
      ]
     },
     "execution_count": 344,
     "metadata": {},
     "output_type": "execute_result"
    }
   ],
   "source": [
    "confusion_matrix(dev_class_new, dev_pred_sent,labels = [\"Y\",\"N\"])"
   ]
  },
  {
   "cell_type": "code",
   "execution_count": 345,
   "metadata": {},
   "outputs": [
    {
     "data": {
      "text/plain": [
       "array([[ 23,  91],\n",
       "       [ 21, 941]])"
      ]
     },
     "execution_count": 345,
     "metadata": {},
     "output_type": "execute_result"
    }
   ],
   "source": [
    "confusion_matrix(dev_class_new, dev_pred_all,labels = [\"Y\",\"N\"])"
   ]
  },
  {
   "cell_type": "code",
   "execution_count": 346,
   "metadata": {},
   "outputs": [
    {
     "name": "stdout",
     "output_type": "stream",
     "text": [
      "             precision    recall  f1-score   support\n",
      "\n",
      "          Y       0.57      0.14      0.23       114\n",
      "          N       0.91      0.99      0.95       962\n",
      "\n",
      "avg / total       0.87      0.90      0.87      1076\n",
      "\n"
     ]
    }
   ],
   "source": [
    "print(classification_report(dev_class_new,dev_pred_adr,labels = [\"Y\",\"N\"]))"
   ]
  },
  {
   "cell_type": "code",
   "execution_count": 347,
   "metadata": {},
   "outputs": [
    {
     "name": "stdout",
     "output_type": "stream",
     "text": [
      "             precision    recall  f1-score   support\n",
      "\n",
      "          Y       0.32      0.10      0.15       114\n",
      "          N       0.90      0.98      0.94       962\n",
      "\n",
      "avg / total       0.84      0.88      0.85      1076\n",
      "\n"
     ]
    }
   ],
   "source": [
    "print(classification_report(dev_class_new,dev_pred_sent,labels = [\"Y\",\"N\"]))"
   ]
  },
  {
   "cell_type": "code",
   "execution_count": 348,
   "metadata": {},
   "outputs": [
    {
     "name": "stdout",
     "output_type": "stream",
     "text": [
      "             precision    recall  f1-score   support\n",
      "\n",
      "          Y       0.52      0.20      0.29       114\n",
      "          N       0.91      0.98      0.94       962\n",
      "\n",
      "avg / total       0.87      0.90      0.87      1076\n",
      "\n"
     ]
    }
   ],
   "source": [
    "print(classification_report(dev_class_new,dev_pred_all,labels = [\"Y\",\"N\"]))"
   ]
  },
  {
   "cell_type": "code",
   "execution_count": 349,
   "metadata": {},
   "outputs": [
    {
     "data": {
      "text/plain": [
       "0.89776951672862448"
      ]
     },
     "execution_count": 349,
     "metadata": {},
     "output_type": "execute_result"
    }
   ],
   "source": [
    "accuracy_score(dev_class_new,dev_pred_adr)"
   ]
  },
  {
   "cell_type": "code",
   "execution_count": 350,
   "metadata": {},
   "outputs": [
    {
     "data": {
      "text/plain": [
       "0.88289962825278812"
      ]
     },
     "execution_count": 350,
     "metadata": {},
     "output_type": "execute_result"
    }
   ],
   "source": [
    "accuracy_score(dev_class_new,dev_pred_sent)"
   ]
  },
  {
   "cell_type": "code",
   "execution_count": 351,
   "metadata": {},
   "outputs": [
    {
     "data": {
      "text/plain": [
       "0.89591078066914498"
      ]
     },
     "execution_count": 351,
     "metadata": {},
     "output_type": "execute_result"
    }
   ],
   "source": [
    "accuracy_score(dev_class_new,dev_pred_all)"
   ]
  },
  {
   "cell_type": "markdown",
   "metadata": {},
   "source": [
    "## SVM"
   ]
  },
  {
   "cell_type": "code",
   "execution_count": 352,
   "metadata": {},
   "outputs": [
    {
     "data": {
      "text/plain": [
       "LinearSVC(C=0.2, class_weight=None, dual=True, fit_intercept=True,\n",
       "     intercept_scaling=1, loss='squared_hinge', max_iter=1000,\n",
       "     multi_class='ovr', penalty='l2', random_state=None, tol=0.0001,\n",
       "     verbose=0)"
      ]
     },
     "execution_count": 352,
     "metadata": {},
     "output_type": "execute_result"
    }
   ],
   "source": [
    "from sklearn import svm\n",
    "svm_clf_adr = svm.LinearSVC(C=0.2)\n",
    "svm_clf_adr.fit(train_feat_adr,train_features_label_new)\n",
    "\n",
    "svm_clf_sent = svm.LinearSVC(C=0.2)\n",
    "svm_clf_sent.fit(train_feat_sent,train_features_label_new)\n",
    "\n",
    "svm_clf_all = svm.LinearSVC(C=0.2)\n",
    "svm_clf_all.fit(train_feat_all,train_features_label_new)"
   ]
  },
  {
   "cell_type": "code",
   "execution_count": 353,
   "metadata": {},
   "outputs": [],
   "source": [
    "dev_pred_svm_adr = svm_clf_adr.predict(dev_feat_adr)\n",
    "dev_pred_svm_sent = svm_clf_sent.predict(dev_feat_sent)\n",
    "dev_pred_svm_all = svm_clf_all.predict(dev_feat_all)"
   ]
  },
  {
   "cell_type": "code",
   "execution_count": 354,
   "metadata": {},
   "outputs": [
    {
     "data": {
      "text/plain": [
       "array([[ 21,  93],\n",
       "       [ 15, 947]])"
      ]
     },
     "execution_count": 354,
     "metadata": {},
     "output_type": "execute_result"
    }
   ],
   "source": [
    "confusion_matrix(dev_class_new, dev_pred_svm_adr,labels = [\"Y\",\"N\"])"
   ]
  },
  {
   "cell_type": "code",
   "execution_count": 355,
   "metadata": {},
   "outputs": [
    {
     "data": {
      "text/plain": [
       "array([[ 25,  89],\n",
       "       [ 19, 943]])"
      ]
     },
     "execution_count": 355,
     "metadata": {},
     "output_type": "execute_result"
    }
   ],
   "source": [
    "confusion_matrix(dev_class_new, dev_pred_svm_sent,labels = [\"Y\",\"N\"])"
   ]
  },
  {
   "cell_type": "code",
   "execution_count": 356,
   "metadata": {},
   "outputs": [
    {
     "data": {
      "text/plain": [
       "array([[ 25,  89],\n",
       "       [ 15, 947]])"
      ]
     },
     "execution_count": 356,
     "metadata": {},
     "output_type": "execute_result"
    }
   ],
   "source": [
    "confusion_matrix(dev_class_new, dev_pred_svm_all,labels = [\"Y\",\"N\"])"
   ]
  },
  {
   "cell_type": "code",
   "execution_count": 357,
   "metadata": {},
   "outputs": [
    {
     "name": "stdout",
     "output_type": "stream",
     "text": [
      "             precision    recall  f1-score   support\n",
      "\n",
      "          Y       0.58      0.18      0.28       114\n",
      "          N       0.91      0.98      0.95       962\n",
      "\n",
      "avg / total       0.88      0.90      0.88      1076\n",
      "\n"
     ]
    }
   ],
   "source": [
    "print(classification_report(dev_class_new,dev_pred_svm_adr,labels = [\"Y\",\"N\"]))"
   ]
  },
  {
   "cell_type": "code",
   "execution_count": 358,
   "metadata": {},
   "outputs": [
    {
     "name": "stdout",
     "output_type": "stream",
     "text": [
      "             precision    recall  f1-score   support\n",
      "\n",
      "          Y       0.57      0.22      0.32       114\n",
      "          N       0.91      0.98      0.95       962\n",
      "\n",
      "avg / total       0.88      0.90      0.88      1076\n",
      "\n"
     ]
    }
   ],
   "source": [
    "print(classification_report(dev_class_new,dev_pred_svm_sent,labels = [\"Y\",\"N\"]))"
   ]
  },
  {
   "cell_type": "code",
   "execution_count": 359,
   "metadata": {},
   "outputs": [
    {
     "name": "stdout",
     "output_type": "stream",
     "text": [
      "             precision    recall  f1-score   support\n",
      "\n",
      "          Y       0.62      0.22      0.32       114\n",
      "          N       0.91      0.98      0.95       962\n",
      "\n",
      "avg / total       0.88      0.90      0.88      1076\n",
      "\n"
     ]
    }
   ],
   "source": [
    "print(classification_report(dev_class_new,dev_pred_svm_all,labels = [\"Y\",\"N\"]))"
   ]
  },
  {
   "cell_type": "code",
   "execution_count": 360,
   "metadata": {},
   "outputs": [
    {
     "data": {
      "text/plain": [
       "0.8996282527881041"
      ]
     },
     "execution_count": 360,
     "metadata": {},
     "output_type": "execute_result"
    }
   ],
   "source": [
    "accuracy_score(dev_class_new,dev_pred_svm_adr)"
   ]
  },
  {
   "cell_type": "code",
   "execution_count": 361,
   "metadata": {},
   "outputs": [
    {
     "data": {
      "text/plain": [
       "0.8996282527881041"
      ]
     },
     "execution_count": 361,
     "metadata": {},
     "output_type": "execute_result"
    }
   ],
   "source": [
    "accuracy_score(dev_class_new,dev_pred_svm_sent)"
   ]
  },
  {
   "cell_type": "code",
   "execution_count": 362,
   "metadata": {},
   "outputs": [
    {
     "data": {
      "text/plain": [
       "0.90334572490706322"
      ]
     },
     "execution_count": 362,
     "metadata": {},
     "output_type": "execute_result"
    }
   ],
   "source": [
    "accuracy_score(dev_class_new,dev_pred_svm_all)"
   ]
  },
  {
   "cell_type": "markdown",
   "metadata": {},
   "source": [
    "## Gaussian NB"
   ]
  },
  {
   "cell_type": "code",
   "execution_count": 363,
   "metadata": {},
   "outputs": [
    {
     "data": {
      "text/plain": [
       "GaussianNB(priors=None)"
      ]
     },
     "execution_count": 363,
     "metadata": {},
     "output_type": "execute_result"
    }
   ],
   "source": [
    "clf_adr = GaussianNB()\n",
    "clf_adr.fit(train_feat_adr, train_features_label_new)\n",
    "\n",
    "clf_sent = GaussianNB()\n",
    "clf_sent.fit(train_feat_sent, train_features_label_new)\n",
    "\n",
    "clf_all = GaussianNB()\n",
    "clf_all.fit(train_feat_all, train_features_label_new)"
   ]
  },
  {
   "cell_type": "code",
   "execution_count": 364,
   "metadata": {},
   "outputs": [],
   "source": [
    "dev_pred_gnb_adr = clf_adr.predict(dev_feat_adr)\n",
    "dev_pred_gnb_sent = clf_sent.predict(dev_feat_sent)\n",
    "dev_pred_gnb_all = clf_all.predict(dev_feat_all)"
   ]
  },
  {
   "cell_type": "code",
   "execution_count": 365,
   "metadata": {},
   "outputs": [
    {
     "data": {
      "text/plain": [
       "array([[ 39,  75],\n",
       "       [ 52, 910]])"
      ]
     },
     "execution_count": 365,
     "metadata": {},
     "output_type": "execute_result"
    }
   ],
   "source": [
    "confusion_matrix(dev_class_new, dev_pred_gnb_adr,labels = [\"Y\",\"N\"])"
   ]
  },
  {
   "cell_type": "code",
   "execution_count": 366,
   "metadata": {},
   "outputs": [
    {
     "data": {
      "text/plain": [
       "array([[ 39,  75],\n",
       "       [ 50, 912]])"
      ]
     },
     "execution_count": 366,
     "metadata": {},
     "output_type": "execute_result"
    }
   ],
   "source": [
    "confusion_matrix(dev_class_new, dev_pred_gnb_sent,labels = [\"Y\",\"N\"])"
   ]
  },
  {
   "cell_type": "code",
   "execution_count": 367,
   "metadata": {},
   "outputs": [
    {
     "data": {
      "text/plain": [
       "array([[ 39,  75],\n",
       "       [ 52, 910]])"
      ]
     },
     "execution_count": 367,
     "metadata": {},
     "output_type": "execute_result"
    }
   ],
   "source": [
    "confusion_matrix(dev_class_new, dev_pred_gnb_all,labels = [\"Y\",\"N\"])"
   ]
  },
  {
   "cell_type": "code",
   "execution_count": 368,
   "metadata": {},
   "outputs": [
    {
     "name": "stdout",
     "output_type": "stream",
     "text": [
      "             precision    recall  f1-score   support\n",
      "\n",
      "          Y       0.43      0.34      0.38       114\n",
      "          N       0.92      0.95      0.93       962\n",
      "\n",
      "avg / total       0.87      0.88      0.88      1076\n",
      "\n"
     ]
    }
   ],
   "source": [
    "print(classification_report(dev_class_new,dev_pred_gnb_adr,labels = [\"Y\",\"N\"]))"
   ]
  },
  {
   "cell_type": "code",
   "execution_count": 369,
   "metadata": {},
   "outputs": [
    {
     "name": "stdout",
     "output_type": "stream",
     "text": [
      "             precision    recall  f1-score   support\n",
      "\n",
      "          Y       0.44      0.34      0.38       114\n",
      "          N       0.92      0.95      0.94       962\n",
      "\n",
      "avg / total       0.87      0.88      0.88      1076\n",
      "\n"
     ]
    }
   ],
   "source": [
    "print(classification_report(dev_class_new,dev_pred_gnb_sent,labels = [\"Y\",\"N\"]))"
   ]
  },
  {
   "cell_type": "code",
   "execution_count": 370,
   "metadata": {},
   "outputs": [
    {
     "name": "stdout",
     "output_type": "stream",
     "text": [
      "             precision    recall  f1-score   support\n",
      "\n",
      "          Y       0.43      0.34      0.38       114\n",
      "          N       0.92      0.95      0.93       962\n",
      "\n",
      "avg / total       0.87      0.88      0.88      1076\n",
      "\n"
     ]
    }
   ],
   "source": [
    "print(classification_report(dev_class_new,dev_pred_gnb_all,labels = [\"Y\",\"N\"]))"
   ]
  },
  {
   "cell_type": "code",
   "execution_count": 371,
   "metadata": {},
   "outputs": [
    {
     "data": {
      "text/plain": [
       "0.88197026022304836"
      ]
     },
     "execution_count": 371,
     "metadata": {},
     "output_type": "execute_result"
    }
   ],
   "source": [
    "accuracy_score(dev_class_new,dev_pred_gnb_adr)"
   ]
  },
  {
   "cell_type": "code",
   "execution_count": 372,
   "metadata": {},
   "outputs": [
    {
     "data": {
      "text/plain": [
       "0.88382899628252787"
      ]
     },
     "execution_count": 372,
     "metadata": {},
     "output_type": "execute_result"
    }
   ],
   "source": [
    "accuracy_score(dev_class_new,dev_pred_gnb_sent)"
   ]
  },
  {
   "cell_type": "code",
   "execution_count": 373,
   "metadata": {},
   "outputs": [
    {
     "data": {
      "text/plain": [
       "0.88197026022304836"
      ]
     },
     "execution_count": 373,
     "metadata": {},
     "output_type": "execute_result"
    }
   ],
   "source": [
    "accuracy_score(dev_class_new,dev_pred_gnb_all)"
   ]
  },
  {
   "cell_type": "markdown",
   "metadata": {},
   "source": [
    "## Multinomial NB"
   ]
  },
  {
   "cell_type": "code",
   "execution_count": 374,
   "metadata": {},
   "outputs": [
    {
     "data": {
      "text/plain": [
       "MultinomialNB(alpha=1.0, class_prior=None, fit_prior=True)"
      ]
     },
     "execution_count": 374,
     "metadata": {},
     "output_type": "execute_result"
    }
   ],
   "source": [
    "clfMulti_adr = MultinomialNB()\n",
    "clfMulti_adr.fit(train_feat_adr, train_features_label_new)\n",
    "\n",
    "clfMulti_sent = MultinomialNB()\n",
    "clfMulti_sent.fit(train_feat_sent, train_features_label_new)\n",
    "\n",
    "clfMulti_all = MultinomialNB()\n",
    "clfMulti_all.fit(train_feat_all, train_features_label_new)"
   ]
  },
  {
   "cell_type": "code",
   "execution_count": 375,
   "metadata": {},
   "outputs": [],
   "source": [
    "dev_multinb_pred_adr = clfMulti_adr.predict(dev_feat_adr)\n",
    "dev_multinb_pred_sent = clfMulti_sent.predict(dev_feat_sent)\n",
    "dev_multinb_pred_all = clfMulti_all.predict(dev_feat_all)"
   ]
  },
  {
   "cell_type": "code",
   "execution_count": 376,
   "metadata": {},
   "outputs": [
    {
     "data": {
      "text/plain": [
       "array([[ 34,  80],\n",
       "       [ 27, 935]])"
      ]
     },
     "execution_count": 376,
     "metadata": {},
     "output_type": "execute_result"
    }
   ],
   "source": [
    "confusion_matrix(dev_class_new, dev_multinb_pred_adr,labels = [\"Y\",\"N\"])"
   ]
  },
  {
   "cell_type": "code",
   "execution_count": 377,
   "metadata": {},
   "outputs": [
    {
     "data": {
      "text/plain": [
       "array([[ 33,  81],\n",
       "       [ 29, 933]])"
      ]
     },
     "execution_count": 377,
     "metadata": {},
     "output_type": "execute_result"
    }
   ],
   "source": [
    "confusion_matrix(dev_class_new, dev_multinb_pred_sent,labels = [\"Y\",\"N\"])"
   ]
  },
  {
   "cell_type": "code",
   "execution_count": 378,
   "metadata": {},
   "outputs": [
    {
     "data": {
      "text/plain": [
       "array([[ 35,  79],\n",
       "       [ 28, 934]])"
      ]
     },
     "execution_count": 378,
     "metadata": {},
     "output_type": "execute_result"
    }
   ],
   "source": [
    "confusion_matrix(dev_class_new, dev_multinb_pred_all,labels = [\"Y\",\"N\"])"
   ]
  },
  {
   "cell_type": "code",
   "execution_count": 379,
   "metadata": {},
   "outputs": [
    {
     "name": "stdout",
     "output_type": "stream",
     "text": [
      "             precision    recall  f1-score   support\n",
      "\n",
      "          Y       0.56      0.30      0.39       114\n",
      "          N       0.92      0.97      0.95       962\n",
      "\n",
      "avg / total       0.88      0.90      0.89      1076\n",
      "\n"
     ]
    }
   ],
   "source": [
    "print(classification_report(dev_class_new,dev_multinb_pred_adr,labels = [\"Y\",\"N\"]))"
   ]
  },
  {
   "cell_type": "code",
   "execution_count": 380,
   "metadata": {},
   "outputs": [
    {
     "name": "stdout",
     "output_type": "stream",
     "text": [
      "             precision    recall  f1-score   support\n",
      "\n",
      "          Y       0.53      0.29      0.38       114\n",
      "          N       0.92      0.97      0.94       962\n",
      "\n",
      "avg / total       0.88      0.90      0.88      1076\n",
      "\n"
     ]
    }
   ],
   "source": [
    "print(classification_report(dev_class_new,dev_multinb_pred_sent,labels = [\"Y\",\"N\"]))"
   ]
  },
  {
   "cell_type": "code",
   "execution_count": 381,
   "metadata": {},
   "outputs": [
    {
     "name": "stdout",
     "output_type": "stream",
     "text": [
      "             precision    recall  f1-score   support\n",
      "\n",
      "          Y       0.56      0.31      0.40       114\n",
      "          N       0.92      0.97      0.95       962\n",
      "\n",
      "avg / total       0.88      0.90      0.89      1076\n",
      "\n"
     ]
    }
   ],
   "source": [
    "print(classification_report(dev_class_new,dev_multinb_pred_all,labels = [\"Y\",\"N\"]))"
   ]
  },
  {
   "cell_type": "code",
   "execution_count": 388,
   "metadata": {},
   "outputs": [
    {
     "data": {
      "text/plain": [
       "0.90055762081784385"
      ]
     },
     "execution_count": 388,
     "metadata": {},
     "output_type": "execute_result"
    }
   ],
   "source": [
    "accuracy_score(dev_class_new,dev_multinb_pred_adr)"
   ]
  },
  {
   "cell_type": "code",
   "execution_count": 383,
   "metadata": {},
   "outputs": [
    {
     "data": {
      "text/plain": [
       "0.89776951672862448"
      ]
     },
     "execution_count": 383,
     "metadata": {},
     "output_type": "execute_result"
    }
   ],
   "source": [
    "accuracy_score(dev_class_new,dev_multinb_pred_sent)"
   ]
  },
  {
   "cell_type": "code",
   "execution_count": 387,
   "metadata": {},
   "outputs": [
    {
     "data": {
      "text/plain": [
       "0.90055762081784385"
      ]
     },
     "execution_count": 387,
     "metadata": {},
     "output_type": "execute_result"
    }
   ],
   "source": [
    "accuracy_score(dev_class_new,dev_multinb_pred_all)"
   ]
  },
  {
   "cell_type": "markdown",
   "metadata": {},
   "source": [
    "### Decision Tree"
   ]
  },
  {
   "cell_type": "code",
   "execution_count": 404,
   "metadata": {},
   "outputs": [
    {
     "data": {
      "text/plain": [
       "DecisionTreeClassifier(class_weight=None, criterion='gini', max_depth=23,\n",
       "            max_features=None, max_leaf_nodes=None,\n",
       "            min_impurity_decrease=0.0, min_impurity_split=None,\n",
       "            min_samples_leaf=1, min_samples_split=2,\n",
       "            min_weight_fraction_leaf=0.0, presort=False, random_state=None,\n",
       "            splitter='best')"
      ]
     },
     "execution_count": 404,
     "metadata": {},
     "output_type": "execute_result"
    }
   ],
   "source": [
    "tree_adr = tree.DecisionTreeClassifier(max_depth=23)\n",
    "tree_adr.fit(train_feat_adr, train_features_label_new)\n",
    "\n",
    "tree_sent = tree.DecisionTreeClassifier(max_depth=23)\n",
    "tree_sent.fit(train_feat_sent, train_features_label_new)\n",
    "\n",
    "tree_all = tree.DecisionTreeClassifier(max_depth=23)\n",
    "tree_all.fit(train_feat_all, train_features_label_new)"
   ]
  },
  {
   "cell_type": "code",
   "execution_count": 405,
   "metadata": {},
   "outputs": [],
   "source": [
    "dev_pred_dt_adr = tree_adr.predict(dev_feat_adr)\n",
    "dev_pred_dt_sent = tree_sent.predict(dev_feat_sent)\n",
    "dev_pred_dt_all = tree_all.predict(dev_feat_all)"
   ]
  },
  {
   "cell_type": "code",
   "execution_count": 406,
   "metadata": {},
   "outputs": [
    {
     "data": {
      "text/plain": [
       "0.8810408921933085"
      ]
     },
     "execution_count": 406,
     "metadata": {},
     "output_type": "execute_result"
    }
   ],
   "source": [
    "accuracy_score(dev_class_new,dev_pred_dt_adr)"
   ]
  },
  {
   "cell_type": "code",
   "execution_count": 407,
   "metadata": {},
   "outputs": [
    {
     "data": {
      "text/plain": [
       "0.85315985130111527"
      ]
     },
     "execution_count": 407,
     "metadata": {},
     "output_type": "execute_result"
    }
   ],
   "source": [
    "accuracy_score(dev_class_new,dev_pred_dt_sent)"
   ]
  },
  {
   "cell_type": "code",
   "execution_count": 408,
   "metadata": {},
   "outputs": [
    {
     "data": {
      "text/plain": [
       "0.8689591078066915"
      ]
     },
     "execution_count": 408,
     "metadata": {},
     "output_type": "execute_result"
    }
   ],
   "source": [
    "accuracy_score(dev_class_new,dev_pred_dt_all)"
   ]
  },
  {
   "cell_type": "code",
   "execution_count": 409,
   "metadata": {},
   "outputs": [
    {
     "name": "stdout",
     "output_type": "stream",
     "text": [
      "             precision    recall  f1-score   support\n",
      "\n",
      "          Y       0.37      0.34      0.36       114\n",
      "          N       0.92      0.93      0.93       962\n",
      "\n",
      "avg / total       0.86      0.87      0.87      1076\n",
      "\n"
     ]
    }
   ],
   "source": [
    "print(classification_report(dev_class_new,dev_pred_dt_all,labels = [\"Y\",\"N\"]))"
   ]
  },
  {
   "cell_type": "markdown",
   "metadata": {},
   "source": [
    "## Evaluate Test Data"
   ]
  },
  {
   "cell_type": "code",
   "execution_count": 82,
   "metadata": {},
   "outputs": [
    {
     "data": {
      "text/plain": [
       "LinearSVC(C=0.2, class_weight=None, dual=True, fit_intercept=True,\n",
       "     intercept_scaling=1, loss='squared_hinge', max_iter=1000,\n",
       "     multi_class='ovr', penalty='l2', random_state=None, tol=0.0001,\n",
       "     verbose=0)"
      ]
     },
     "execution_count": 82,
     "metadata": {},
     "output_type": "execute_result"
    }
   ],
   "source": [
    "svm_clf_test = svm.LinearSVC(C=0.2)\n",
    "svm_clf_test.fit(train_feat_all,train_features_label_new)"
   ]
  },
  {
   "cell_type": "code",
   "execution_count": 84,
   "metadata": {},
   "outputs": [
    {
     "data": {
      "text/html": [
       "<div>\n",
       "<style>\n",
       "    .dataframe thead tr:only-child th {\n",
       "        text-align: right;\n",
       "    }\n",
       "\n",
       "    .dataframe thead th {\n",
       "        text-align: left;\n",
       "    }\n",
       "\n",
       "    .dataframe tbody tr th {\n",
       "        vertical-align: top;\n",
       "    }\n",
       "</style>\n",
       "<table border=\"1\" class=\"dataframe\">\n",
       "  <thead>\n",
       "    <tr style=\"text-align: right;\">\n",
       "      <th></th>\n",
       "      <th>allergic</th>\n",
       "      <th>am</th>\n",
       "      <th>appetite</th>\n",
       "      <th>bad</th>\n",
       "      <th>bananas</th>\n",
       "      <th>bed</th>\n",
       "      <th>been</th>\n",
       "      <th>body</th>\n",
       "      <th>but</th>\n",
       "      <th>can</th>\n",
       "      <th>...</th>\n",
       "      <th>up</th>\n",
       "      <th>was</th>\n",
       "      <th>weight</th>\n",
       "      <th>withdrawal</th>\n",
       "      <th>withdrawals</th>\n",
       "      <th>wondering</th>\n",
       "      <th>zombie</th>\n",
       "      <th>adr_presence</th>\n",
       "      <th>adr_count</th>\n",
       "      <th>neg_sent</th>\n",
       "    </tr>\n",
       "  </thead>\n",
       "  <tbody>\n",
       "    <tr>\n",
       "      <th>0</th>\n",
       "      <td>0</td>\n",
       "      <td>0</td>\n",
       "      <td>0</td>\n",
       "      <td>0</td>\n",
       "      <td>0</td>\n",
       "      <td>0</td>\n",
       "      <td>0</td>\n",
       "      <td>0</td>\n",
       "      <td>0</td>\n",
       "      <td>0</td>\n",
       "      <td>...</td>\n",
       "      <td>0</td>\n",
       "      <td>0</td>\n",
       "      <td>0</td>\n",
       "      <td>0</td>\n",
       "      <td>0</td>\n",
       "      <td>0</td>\n",
       "      <td>0</td>\n",
       "      <td>1</td>\n",
       "      <td>2</td>\n",
       "      <td>1</td>\n",
       "    </tr>\n",
       "    <tr>\n",
       "      <th>1</th>\n",
       "      <td>0</td>\n",
       "      <td>0</td>\n",
       "      <td>0</td>\n",
       "      <td>0</td>\n",
       "      <td>0</td>\n",
       "      <td>1</td>\n",
       "      <td>0</td>\n",
       "      <td>0</td>\n",
       "      <td>0</td>\n",
       "      <td>0</td>\n",
       "      <td>...</td>\n",
       "      <td>0</td>\n",
       "      <td>1</td>\n",
       "      <td>0</td>\n",
       "      <td>0</td>\n",
       "      <td>0</td>\n",
       "      <td>0</td>\n",
       "      <td>0</td>\n",
       "      <td>0</td>\n",
       "      <td>0</td>\n",
       "      <td>1</td>\n",
       "    </tr>\n",
       "    <tr>\n",
       "      <th>2</th>\n",
       "      <td>0</td>\n",
       "      <td>0</td>\n",
       "      <td>0</td>\n",
       "      <td>0</td>\n",
       "      <td>0</td>\n",
       "      <td>0</td>\n",
       "      <td>0</td>\n",
       "      <td>0</td>\n",
       "      <td>0</td>\n",
       "      <td>0</td>\n",
       "      <td>...</td>\n",
       "      <td>0</td>\n",
       "      <td>0</td>\n",
       "      <td>0</td>\n",
       "      <td>0</td>\n",
       "      <td>0</td>\n",
       "      <td>0</td>\n",
       "      <td>0</td>\n",
       "      <td>0</td>\n",
       "      <td>0</td>\n",
       "      <td>1</td>\n",
       "    </tr>\n",
       "    <tr>\n",
       "      <th>3</th>\n",
       "      <td>0</td>\n",
       "      <td>0</td>\n",
       "      <td>0</td>\n",
       "      <td>0</td>\n",
       "      <td>0</td>\n",
       "      <td>0</td>\n",
       "      <td>0</td>\n",
       "      <td>0</td>\n",
       "      <td>0</td>\n",
       "      <td>0</td>\n",
       "      <td>...</td>\n",
       "      <td>0</td>\n",
       "      <td>0</td>\n",
       "      <td>0</td>\n",
       "      <td>0</td>\n",
       "      <td>0</td>\n",
       "      <td>0</td>\n",
       "      <td>0</td>\n",
       "      <td>0</td>\n",
       "      <td>0</td>\n",
       "      <td>0</td>\n",
       "    </tr>\n",
       "    <tr>\n",
       "      <th>4</th>\n",
       "      <td>0</td>\n",
       "      <td>0</td>\n",
       "      <td>0</td>\n",
       "      <td>0</td>\n",
       "      <td>0</td>\n",
       "      <td>0</td>\n",
       "      <td>0</td>\n",
       "      <td>0</td>\n",
       "      <td>0</td>\n",
       "      <td>0</td>\n",
       "      <td>...</td>\n",
       "      <td>0</td>\n",
       "      <td>0</td>\n",
       "      <td>0</td>\n",
       "      <td>0</td>\n",
       "      <td>0</td>\n",
       "      <td>0</td>\n",
       "      <td>0</td>\n",
       "      <td>0</td>\n",
       "      <td>0</td>\n",
       "      <td>1</td>\n",
       "    </tr>\n",
       "  </tbody>\n",
       "</table>\n",
       "<p>5 rows × 95 columns</p>\n",
       "</div>"
      ],
      "text/plain": [
       "   allergic  am  appetite  bad  bananas  bed  been  body  but  can    ...     \\\n",
       "0         0   0         0    0        0    0     0     0    0    0    ...      \n",
       "1         0   0         0    0        0    1     0     0    0    0    ...      \n",
       "2         0   0         0    0        0    0     0     0    0    0    ...      \n",
       "3         0   0         0    0        0    0     0     0    0    0    ...      \n",
       "4         0   0         0    0        0    0     0     0    0    0    ...      \n",
       "\n",
       "   up  was  weight  withdrawal  withdrawals  wondering  zombie  adr_presence  \\\n",
       "0   0    0       0           0            0          0       0             1   \n",
       "1   0    1       0           0            0          0       0             0   \n",
       "2   0    0       0           0            0          0       0             0   \n",
       "3   0    0       0           0            0          0       0             0   \n",
       "4   0    0       0           0            0          0       0             0   \n",
       "\n",
       "   adr_count  neg_sent  \n",
       "0          2         1  \n",
       "1          0         1  \n",
       "2          0         1  \n",
       "3          0         0  \n",
       "4          0         1  \n",
       "\n",
       "[5 rows x 95 columns]"
      ]
     },
     "execution_count": 84,
     "metadata": {},
     "output_type": "execute_result"
    }
   ],
   "source": [
    "test_feat_all.head()"
   ]
  },
  {
   "cell_type": "code",
   "execution_count": 117,
   "metadata": {},
   "outputs": [],
   "source": [
    "test_pred_svm_all = svm_clf_test.predict(test_feat_all)"
   ]
  },
  {
   "cell_type": "code",
   "execution_count": 118,
   "metadata": {},
   "outputs": [
    {
     "data": {
      "text/plain": [
       "array(['N', 'N', 'N', ..., 'N', 'N', 'Y'], dtype=object)"
      ]
     },
     "execution_count": 118,
     "metadata": {},
     "output_type": "execute_result"
    }
   ],
   "source": [
    "test_pred_svm_all"
   ]
  },
  {
   "cell_type": "markdown",
   "metadata": {},
   "source": [
    "## Generate new ARFF file"
   ]
  },
  {
   "cell_type": "code",
   "execution_count": 100,
   "metadata": {},
   "outputs": [],
   "source": [
    "import pandas2arff"
   ]
  },
  {
   "cell_type": "code",
   "execution_count": 142,
   "metadata": {},
   "outputs": [],
   "source": [
    "# Training\n",
    "train_features_new.to_csv('data/new_features/train.csv',index=False)"
   ]
  },
  {
   "cell_type": "code",
   "execution_count": 143,
   "metadata": {},
   "outputs": [],
   "source": [
    "# dev\n",
    "dev_features_new.to_csv('data/new_features/dev.csv',index=False)"
   ]
  },
  {
   "cell_type": "code",
   "execution_count": 113,
   "metadata": {},
   "outputs": [
    {
     "data": {
      "text/html": [
       "<div>\n",
       "<style>\n",
       "    .dataframe thead tr:only-child th {\n",
       "        text-align: right;\n",
       "    }\n",
       "\n",
       "    .dataframe thead th {\n",
       "        text-align: left;\n",
       "    }\n",
       "\n",
       "    .dataframe tbody tr th {\n",
       "        vertical-align: top;\n",
       "    }\n",
       "</style>\n",
       "<table border=\"1\" class=\"dataframe\">\n",
       "  <thead>\n",
       "    <tr style=\"text-align: right;\">\n",
       "      <th></th>\n",
       "      <th>id</th>\n",
       "      <th>allergic</th>\n",
       "      <th>am</th>\n",
       "      <th>appetite</th>\n",
       "      <th>bad</th>\n",
       "      <th>bananas</th>\n",
       "      <th>bed</th>\n",
       "      <th>been</th>\n",
       "      <th>body</th>\n",
       "      <th>but</th>\n",
       "      <th>...</th>\n",
       "      <th>up</th>\n",
       "      <th>was</th>\n",
       "      <th>weight</th>\n",
       "      <th>withdrawal</th>\n",
       "      <th>withdrawals</th>\n",
       "      <th>wondering</th>\n",
       "      <th>zombie</th>\n",
       "      <th>adr_presence</th>\n",
       "      <th>adr_count</th>\n",
       "      <th>neg_sent</th>\n",
       "    </tr>\n",
       "  </thead>\n",
       "  <tbody>\n",
       "    <tr>\n",
       "      <th>0</th>\n",
       "      <td>326428925972582402</td>\n",
       "      <td>0</td>\n",
       "      <td>0</td>\n",
       "      <td>0</td>\n",
       "      <td>0</td>\n",
       "      <td>0</td>\n",
       "      <td>0</td>\n",
       "      <td>0</td>\n",
       "      <td>0</td>\n",
       "      <td>0</td>\n",
       "      <td>...</td>\n",
       "      <td>0</td>\n",
       "      <td>0</td>\n",
       "      <td>0</td>\n",
       "      <td>0</td>\n",
       "      <td>0</td>\n",
       "      <td>0</td>\n",
       "      <td>0</td>\n",
       "      <td>1</td>\n",
       "      <td>2</td>\n",
       "      <td>1</td>\n",
       "    </tr>\n",
       "    <tr>\n",
       "      <th>1</th>\n",
       "      <td>326469551128723460</td>\n",
       "      <td>0</td>\n",
       "      <td>0</td>\n",
       "      <td>0</td>\n",
       "      <td>0</td>\n",
       "      <td>0</td>\n",
       "      <td>1</td>\n",
       "      <td>0</td>\n",
       "      <td>0</td>\n",
       "      <td>0</td>\n",
       "      <td>...</td>\n",
       "      <td>0</td>\n",
       "      <td>1</td>\n",
       "      <td>0</td>\n",
       "      <td>0</td>\n",
       "      <td>0</td>\n",
       "      <td>0</td>\n",
       "      <td>0</td>\n",
       "      <td>0</td>\n",
       "      <td>0</td>\n",
       "      <td>1</td>\n",
       "    </tr>\n",
       "    <tr>\n",
       "      <th>2</th>\n",
       "      <td>326496283516882944</td>\n",
       "      <td>0</td>\n",
       "      <td>0</td>\n",
       "      <td>0</td>\n",
       "      <td>0</td>\n",
       "      <td>0</td>\n",
       "      <td>0</td>\n",
       "      <td>0</td>\n",
       "      <td>0</td>\n",
       "      <td>0</td>\n",
       "      <td>...</td>\n",
       "      <td>0</td>\n",
       "      <td>0</td>\n",
       "      <td>0</td>\n",
       "      <td>0</td>\n",
       "      <td>0</td>\n",
       "      <td>0</td>\n",
       "      <td>0</td>\n",
       "      <td>0</td>\n",
       "      <td>0</td>\n",
       "      <td>1</td>\n",
       "    </tr>\n",
       "    <tr>\n",
       "      <th>3</th>\n",
       "      <td>326499885656461313</td>\n",
       "      <td>0</td>\n",
       "      <td>0</td>\n",
       "      <td>0</td>\n",
       "      <td>0</td>\n",
       "      <td>0</td>\n",
       "      <td>0</td>\n",
       "      <td>0</td>\n",
       "      <td>0</td>\n",
       "      <td>0</td>\n",
       "      <td>...</td>\n",
       "      <td>0</td>\n",
       "      <td>0</td>\n",
       "      <td>0</td>\n",
       "      <td>0</td>\n",
       "      <td>0</td>\n",
       "      <td>0</td>\n",
       "      <td>0</td>\n",
       "      <td>0</td>\n",
       "      <td>0</td>\n",
       "      <td>0</td>\n",
       "    </tr>\n",
       "    <tr>\n",
       "      <th>4</th>\n",
       "      <td>326532133399166976</td>\n",
       "      <td>0</td>\n",
       "      <td>0</td>\n",
       "      <td>0</td>\n",
       "      <td>0</td>\n",
       "      <td>0</td>\n",
       "      <td>0</td>\n",
       "      <td>0</td>\n",
       "      <td>0</td>\n",
       "      <td>0</td>\n",
       "      <td>...</td>\n",
       "      <td>0</td>\n",
       "      <td>0</td>\n",
       "      <td>0</td>\n",
       "      <td>0</td>\n",
       "      <td>0</td>\n",
       "      <td>0</td>\n",
       "      <td>0</td>\n",
       "      <td>0</td>\n",
       "      <td>0</td>\n",
       "      <td>1</td>\n",
       "    </tr>\n",
       "  </tbody>\n",
       "</table>\n",
       "<p>5 rows × 96 columns</p>\n",
       "</div>"
      ],
      "text/plain": [
       "                   id  allergic  am  appetite  bad  bananas  bed  been  body  \\\n",
       "0  326428925972582402         0   0         0    0        0    0     0     0   \n",
       "1  326469551128723460         0   0         0    0        0    1     0     0   \n",
       "2  326496283516882944         0   0         0    0        0    0     0     0   \n",
       "3  326499885656461313         0   0         0    0        0    0     0     0   \n",
       "4  326532133399166976         0   0         0    0        0    0     0     0   \n",
       "\n",
       "   but    ...     up  was  weight  withdrawal  withdrawals  wondering  zombie  \\\n",
       "0    0    ...      0    0       0           0            0          0       0   \n",
       "1    0    ...      0    1       0           0            0          0       0   \n",
       "2    0    ...      0    0       0           0            0          0       0   \n",
       "3    0    ...      0    0       0           0            0          0       0   \n",
       "4    0    ...      0    0       0           0            0          0       0   \n",
       "\n",
       "   adr_presence  adr_count  neg_sent  \n",
       "0             1          2         1  \n",
       "1             0          0         1  \n",
       "2             0          0         1  \n",
       "3             0          0         0  \n",
       "4             0          0         1  \n",
       "\n",
       "[5 rows x 96 columns]"
      ]
     },
     "execution_count": 113,
     "metadata": {},
     "output_type": "execute_result"
    }
   ],
   "source": [
    "test_new_features = test_features_new.copy(deep=True)\n",
    "\n",
    "# All new features\n",
    "test_new_features.drop('class', axis = 1, inplace = True)\n",
    "test_new_features.head()"
   ]
  },
  {
   "cell_type": "code",
   "execution_count": 120,
   "metadata": {},
   "outputs": [],
   "source": [
    "test_new_features['class'] = test_pred_svm_all"
   ]
  },
  {
   "cell_type": "code",
   "execution_count": 144,
   "metadata": {},
   "outputs": [],
   "source": [
    "test_new_features.to_csv('data/new_features/test.csv',index=False)"
   ]
  },
  {
   "cell_type": "code",
   "execution_count": 138,
   "metadata": {},
   "outputs": [
    {
     "data": {
      "text/html": [
       "<div>\n",
       "<style>\n",
       "    .dataframe thead tr:only-child th {\n",
       "        text-align: right;\n",
       "    }\n",
       "\n",
       "    .dataframe thead th {\n",
       "        text-align: left;\n",
       "    }\n",
       "\n",
       "    .dataframe tbody tr th {\n",
       "        vertical-align: top;\n",
       "    }\n",
       "</style>\n",
       "<table border=\"1\" class=\"dataframe\">\n",
       "  <thead>\n",
       "    <tr style=\"text-align: right;\">\n",
       "      <th></th>\n",
       "      <th>id</th>\n",
       "      <th>allergic</th>\n",
       "      <th>am</th>\n",
       "      <th>appetite</th>\n",
       "      <th>bad</th>\n",
       "      <th>bananas</th>\n",
       "      <th>bed</th>\n",
       "      <th>been</th>\n",
       "      <th>body</th>\n",
       "      <th>but</th>\n",
       "      <th>...</th>\n",
       "      <th>was</th>\n",
       "      <th>weight</th>\n",
       "      <th>withdrawal</th>\n",
       "      <th>withdrawals</th>\n",
       "      <th>wondering</th>\n",
       "      <th>zombie</th>\n",
       "      <th>adr_presence</th>\n",
       "      <th>adr_count</th>\n",
       "      <th>neg_sent</th>\n",
       "      <th>class</th>\n",
       "    </tr>\n",
       "  </thead>\n",
       "  <tbody>\n",
       "    <tr>\n",
       "      <th>0</th>\n",
       "      <td>326428925972582402</td>\n",
       "      <td>0</td>\n",
       "      <td>0</td>\n",
       "      <td>0</td>\n",
       "      <td>0</td>\n",
       "      <td>0</td>\n",
       "      <td>0</td>\n",
       "      <td>0</td>\n",
       "      <td>0</td>\n",
       "      <td>0</td>\n",
       "      <td>...</td>\n",
       "      <td>0</td>\n",
       "      <td>0</td>\n",
       "      <td>0</td>\n",
       "      <td>0</td>\n",
       "      <td>0</td>\n",
       "      <td>0</td>\n",
       "      <td>1</td>\n",
       "      <td>2</td>\n",
       "      <td>1</td>\n",
       "      <td>N</td>\n",
       "    </tr>\n",
       "    <tr>\n",
       "      <th>1</th>\n",
       "      <td>326469551128723460</td>\n",
       "      <td>0</td>\n",
       "      <td>0</td>\n",
       "      <td>0</td>\n",
       "      <td>0</td>\n",
       "      <td>0</td>\n",
       "      <td>1</td>\n",
       "      <td>0</td>\n",
       "      <td>0</td>\n",
       "      <td>0</td>\n",
       "      <td>...</td>\n",
       "      <td>1</td>\n",
       "      <td>0</td>\n",
       "      <td>0</td>\n",
       "      <td>0</td>\n",
       "      <td>0</td>\n",
       "      <td>0</td>\n",
       "      <td>0</td>\n",
       "      <td>0</td>\n",
       "      <td>1</td>\n",
       "      <td>N</td>\n",
       "    </tr>\n",
       "    <tr>\n",
       "      <th>2</th>\n",
       "      <td>326496283516882944</td>\n",
       "      <td>0</td>\n",
       "      <td>0</td>\n",
       "      <td>0</td>\n",
       "      <td>0</td>\n",
       "      <td>0</td>\n",
       "      <td>0</td>\n",
       "      <td>0</td>\n",
       "      <td>0</td>\n",
       "      <td>0</td>\n",
       "      <td>...</td>\n",
       "      <td>0</td>\n",
       "      <td>0</td>\n",
       "      <td>0</td>\n",
       "      <td>0</td>\n",
       "      <td>0</td>\n",
       "      <td>0</td>\n",
       "      <td>0</td>\n",
       "      <td>0</td>\n",
       "      <td>1</td>\n",
       "      <td>N</td>\n",
       "    </tr>\n",
       "    <tr>\n",
       "      <th>3</th>\n",
       "      <td>326499885656461313</td>\n",
       "      <td>0</td>\n",
       "      <td>0</td>\n",
       "      <td>0</td>\n",
       "      <td>0</td>\n",
       "      <td>0</td>\n",
       "      <td>0</td>\n",
       "      <td>0</td>\n",
       "      <td>0</td>\n",
       "      <td>0</td>\n",
       "      <td>...</td>\n",
       "      <td>0</td>\n",
       "      <td>0</td>\n",
       "      <td>0</td>\n",
       "      <td>0</td>\n",
       "      <td>0</td>\n",
       "      <td>0</td>\n",
       "      <td>0</td>\n",
       "      <td>0</td>\n",
       "      <td>0</td>\n",
       "      <td>N</td>\n",
       "    </tr>\n",
       "    <tr>\n",
       "      <th>4</th>\n",
       "      <td>326532133399166976</td>\n",
       "      <td>0</td>\n",
       "      <td>0</td>\n",
       "      <td>0</td>\n",
       "      <td>0</td>\n",
       "      <td>0</td>\n",
       "      <td>0</td>\n",
       "      <td>0</td>\n",
       "      <td>0</td>\n",
       "      <td>0</td>\n",
       "      <td>...</td>\n",
       "      <td>0</td>\n",
       "      <td>0</td>\n",
       "      <td>0</td>\n",
       "      <td>0</td>\n",
       "      <td>0</td>\n",
       "      <td>0</td>\n",
       "      <td>0</td>\n",
       "      <td>0</td>\n",
       "      <td>1</td>\n",
       "      <td>N</td>\n",
       "    </tr>\n",
       "  </tbody>\n",
       "</table>\n",
       "<p>5 rows × 97 columns</p>\n",
       "</div>"
      ],
      "text/plain": [
       "                   id  allergic  am  appetite  bad  bananas  bed  been  body  \\\n",
       "0  326428925972582402         0   0         0    0        0    0     0     0   \n",
       "1  326469551128723460         0   0         0    0        0    1     0     0   \n",
       "2  326496283516882944         0   0         0    0        0    0     0     0   \n",
       "3  326499885656461313         0   0         0    0        0    0     0     0   \n",
       "4  326532133399166976         0   0         0    0        0    0     0     0   \n",
       "\n",
       "   but  ...    was  weight  withdrawal  withdrawals  wondering  zombie  \\\n",
       "0    0  ...      0       0           0            0          0       0   \n",
       "1    0  ...      1       0           0            0          0       0   \n",
       "2    0  ...      0       0           0            0          0       0   \n",
       "3    0  ...      0       0           0            0          0       0   \n",
       "4    0  ...      0       0           0            0          0       0   \n",
       "\n",
       "   adr_presence  adr_count  neg_sent  class  \n",
       "0             1          2         1      N  \n",
       "1             0          0         1      N  \n",
       "2             0          0         1      N  \n",
       "3             0          0         0      N  \n",
       "4             0          0         1      N  \n",
       "\n",
       "[5 rows x 97 columns]"
      ]
     },
     "execution_count": 138,
     "metadata": {},
     "output_type": "execute_result"
    }
   ],
   "source": [
    "test_new_features[test_new_features['class'] == 'N'].head()"
   ]
  },
  {
   "cell_type": "code",
   "execution_count": 137,
   "metadata": {},
   "outputs": [
    {
     "data": {
      "text/plain": [
       "[{'id': '326499885656461313',\n",
       "  'label': '?',\n",
       "  'text': '@wildpursuits @modelbebegirl me I take pretty strong doses of: Fluoxetine, Lithium, and Seroquel'}]"
      ]
     },
     "execution_count": 137,
     "metadata": {},
     "output_type": "execute_result"
    }
   ],
   "source": [
    "filter(lambda d: d['id'] == '326499885656461313', test_tw_all)"
   ]
  },
  {
   "cell_type": "code",
   "execution_count": 127,
   "metadata": {},
   "outputs": [
    {
     "data": {
      "text/plain": [
       "N    1039\n",
       "Y      48\n",
       "Name: class, dtype: int64"
      ]
     },
     "execution_count": 127,
     "metadata": {},
     "output_type": "execute_result"
    }
   ],
   "source": [
    "test_new_features['class'].value_counts()"
   ]
  },
  {
   "cell_type": "code",
   "execution_count": 128,
   "metadata": {},
   "outputs": [
    {
     "data": {
      "image/png": "[encoded data removed]",
      "text/plain": [
       "<matplotlib.figure.Figure at 0x10968e690>"
      ]
     },
     "metadata": {},
     "output_type": "display_data"
    }
   ],
   "source": [
    "# Data to plot\n",
    "labels = 'ADR', 'non-ADR'\n",
    "colors = ['gold', 'yellowgreen']\n",
    "explode = (0.1, 0)  # explode 1st slice\n",
    " \n",
    "# Plot Train Data\n",
    "plt.pie([48,1039], explode=explode, labels=labels, colors=colors,\n",
    "        autopct='%1.1f%%', shadow=True, startangle=140)\n",
    "\n",
    "plt.axis('equal')\n",
    "plt.show()"
   ]
  },
  {
   "cell_type": "code",
   "execution_count": null,
   "metadata": {},
   "outputs": [],
   "source": []
  }
 ],
 "metadata": {
  "kernelspec": {
   "display_name": "Python 2",
   "language": "python",
   "name": "python2"
  },
  "language_info": {
   "codemirror_mode": {
    "name": "ipython",
    "version": 2
   },
   "file_extension": ".py",
   "mimetype": "text/x-python",
   "name": "python",
   "nbconvert_exporter": "python",
   "pygments_lexer": "ipython2",
   "version": "2.7.13"
  }
 },
 "nbformat": 4,
 "nbformat_minor": 2
}
